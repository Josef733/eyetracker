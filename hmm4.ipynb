{
 "cells": [
  {
   "cell_type": "code",
   "execution_count": 1,
   "id": "single-spell",
   "metadata": {},
   "outputs": [],
   "source": [
    "import numpy as np\n",
    "import matplotlib.pyplot as plt\n",
    "import pandas as pd\n",
    "import math\n",
    "from scipy.stats import kurtosis, skew\n",
    "from pandas.plotting import table\n",
    "import dataframe_image as dfi\n",
    "import scipy.stats as stats\n",
    "import seaborn as sb\n",
    "import sklearn\n",
    "from sklearn.metrics import confusion_matrix, classification_report\n",
    "import pomegranate as po\n",
    "import seaborn as sns"
   ]
  },
  {
   "cell_type": "code",
   "execution_count": 2,
   "id": "aggressive-capability",
   "metadata": {},
   "outputs": [
    {
     "name": "stderr",
     "output_type": "stream",
     "text": [
      "c:\\python39\\lib\\site-packages\\IPython\\core\\interactiveshell.py:3155: DtypeWarning: Columns (37,38) have mixed types.Specify dtype option on import or set low_memory=False.\n",
      "  has_raised = await self.run_ast_nodes(code_ast.body, cell_name,\n"
     ]
    }
   ],
   "source": [
    "data= []\n",
    "\n",
    "time = []\n",
    "\n",
    "curr_X = []\n",
    "curr_Y = []\n",
    "\n",
    "delta_X = []\n",
    "delta_Y = []\n",
    "\n",
    "delta_time = []\n",
    "\n",
    "disp = []\n",
    "\n",
    "nonX = []\n",
    "nonY = []\n",
    "nonS = []\n",
    "\n",
    "\n",
    "for i in range(31,32):\n",
    "    participant = i\n",
    "    zeros = 4 - len(str(participant))\n",
    "    data.append(pd.read_csv(\"data/Participant\"+ zeros*'0' + str(participant) + \".tsv\",sep=\"\\t\"))\n",
    "\n",
    "\n",
    "    time.append(data[-1]['Eyetracker timestamp'])\n",
    "    curr_X.append(data[-1]['Gaze point X'])\n",
    "    curr_Y.append(data[-1]['Gaze point Y'])\n",
    "    delta_X.append(np.diff(curr_X[-1]))\n",
    "    delta_Y.append(np.diff(curr_Y[-1]))\n",
    "    delta_time.append(np.diff(time[-1]))\n",
    "    disp.append(np.sqrt(np.diff(curr_X[-1])**2 + np.diff(curr_Y[-1])**2))\n",
    "    #speed.append(disp[-1]/delta_time[-1])\n",
    "\n",
    "    #remove NaN/missing\n",
    "    #nonX.append(d_X[-1][np.logical_not(np.isnan(d_X[-1]))])\n",
    "    #nonY.append(d_Y[-1][np.logical_not(np.isnan(d_Y[-1]))])\n",
    "    #nonS.append(d_S[-1][np.logical_not(np.isnan(d_S[-1]))])\n"
   ]
  },
  {
   "cell_type": "code",
   "execution_count": 3,
   "id": "ffdbf5e7",
   "metadata": {},
   "outputs": [
    {
     "name": "stdout",
     "output_type": "stream",
     "text": [
      "Index(['Recording timestamp', 'Computer timestamp', 'Sensor', 'Project name',\n",
      "       'Export date', 'Participant name', 'Recording name', 'Recording date',\n",
      "       'Recording date UTC', 'Recording start time',\n",
      "       'Recording start time UTC', 'Recording duration', 'Timeline name',\n",
      "       'Recording Fixation filter name', 'Recording software version',\n",
      "       'Recording resolution height', 'Recording resolution width',\n",
      "       'Recording monitor latency', 'Average calibration accuracy (mm)',\n",
      "       'Average calibration precision SD (mm)',\n",
      "       'Average calibration precision RMS (mm)',\n",
      "       'Average calibration accuracy (degrees)',\n",
      "       'Average calibration precision SD (degrees)',\n",
      "       'Average calibration precision RMS (degrees)',\n",
      "       'Average calibration accuracy (pixels)',\n",
      "       'Average calibration precision SD (pixels)',\n",
      "       'Average calibration precision RMS (pixels)',\n",
      "       'Average validation accuracy (mm)',\n",
      "       'Average validation precision SD (mm)',\n",
      "       'Average validation precision RMS (mm)',\n",
      "       'Average validation accuracy (degrees)',\n",
      "       'Average validation precision SD (degrees)',\n",
      "       'Average validation precision RMS (degrees)',\n",
      "       'Average validation accuracy (pixels)',\n",
      "       'Average validation precision SD (pixels)',\n",
      "       'Average validation precision RMS (pixels)', 'Eyetracker timestamp',\n",
      "       'Event', 'Event value', 'Gaze point X', 'Gaze point Y',\n",
      "       'Gaze point left X', 'Gaze point left Y', 'Gaze point right X',\n",
      "       'Gaze point right Y', 'Gaze direction left X', 'Gaze direction left Y',\n",
      "       'Gaze direction left Z', 'Gaze direction right X',\n",
      "       'Gaze direction right Y', 'Gaze direction right Z',\n",
      "       'Pupil diameter left', 'Pupil diameter right', 'Validity left',\n",
      "       'Validity right', 'Eye position left X (DACSmm)',\n",
      "       'Eye position left Y (DACSmm)', 'Eye position left Z (DACSmm)',\n",
      "       'Eye position right X (DACSmm)', 'Eye position right Y (DACSmm)',\n",
      "       'Eye position right Z (DACSmm)', 'Gaze point left X (DACSmm)',\n",
      "       'Gaze point left Y (DACSmm)', 'Gaze point right X (DACSmm)',\n",
      "       'Gaze point right Y (DACSmm)', 'Gaze point X (MCSnorm)',\n",
      "       'Gaze point Y (MCSnorm)', 'Gaze point left X (MCSnorm)',\n",
      "       'Gaze point left Y (MCSnorm)', 'Gaze point right X (MCSnorm)',\n",
      "       'Gaze point right Y (MCSnorm)', 'Presented Stimulus name',\n",
      "       'Presented Media name', 'Presented Media width',\n",
      "       'Presented Media height', 'Presented Media position X (DACSpx)',\n",
      "       'Presented Media position Y (DACSpx)', 'Original Media width',\n",
      "       'Original Media height', 'Eye movement type', 'Gaze event duration',\n",
      "       'Eye movement type index', 'Fixation point X', 'Fixation point Y',\n",
      "       'Fixation point X (MCSnorm)', 'Fixation point Y (MCSnorm)',\n",
      "       'Client area position X (DACSpx)', 'Client area position Y (DACSpx)',\n",
      "       'Viewport position X', 'Viewport position Y', 'Viewport width',\n",
      "       'Viewport height', 'Full page width', 'Full page height',\n",
      "       'Mouse position X', 'Mouse position Y'],\n",
      "      dtype='object')\n"
     ]
    }
   ],
   "source": [
    "a = data[0]\n",
    "print(a.columns)"
   ]
  },
  {
   "cell_type": "code",
   "execution_count": 4,
   "id": "a47409be",
   "metadata": {},
   "outputs": [
    {
     "data": {
      "text/plain": [
       "2         -72,9\n",
       "3         -72,9\n",
       "4         -72,9\n",
       "5         -72,9\n",
       "6         -71,6\n",
       "          ...  \n",
       "117798    -42,0\n",
       "117800    -41,8\n",
       "117801    -41,8\n",
       "117805    -41,5\n",
       "117806    -41,5\n",
       "Name: Eye position left Y (DACSmm), Length: 105339, dtype: object"
      ]
     },
     "execution_count": 4,
     "metadata": {},
     "output_type": "execute_result"
    }
   ],
   "source": [
    "a['Eye position left Y (DACSmm)'].dropna()"
   ]
  },
  {
   "cell_type": "code",
   "execution_count": 5,
   "id": "85844331",
   "metadata": {},
   "outputs": [
    {
     "data": {
      "text/plain": [
       "667.3613863567475"
      ]
     },
     "execution_count": 5,
     "metadata": {},
     "output_type": "execute_result"
    }
   ],
   "source": [
    "np.sqrt(float(np.array(data[-1]['Eye position left X (DACSmm)'].dropna())[10000].replace(',','.'))**2 + float(np.array(data[-1]['Eye position left Y (DACSmm)'].dropna())[10000].replace(',','.'))**2 + float(np.array(data[-1]['Eye position left Z (DACSmm)'].dropna())[10000].replace(',','.'))**2)"
   ]
  },
  {
   "cell_type": "code",
   "execution_count": 6,
   "id": "patent-politics",
   "metadata": {},
   "outputs": [],
   "source": [
    "test = pd.read_csv(\"data/Participant\"+ zeros*'0' + str(participant) + \".tsv\",sep=\"\\t\")"
   ]
  },
  {
   "cell_type": "code",
   "execution_count": 7,
   "id": "minimal-australia",
   "metadata": {},
   "outputs": [
    {
     "name": "stdout",
     "output_type": "stream",
     "text": [
      "117809\n",
      "117809\n",
      "117809\n",
      "112244\n",
      "112244\n",
      "112244\n"
     ]
    }
   ],
   "source": [
    "x_val3 = test.iloc[:, 39:40].values\n",
    "y_val3 = test.iloc[:, 40:41].values\n",
    "t_stamps3 = test.iloc[:, 0:1].values\n",
    "f_type3 = test.iloc[:, 79:80].values\n",
    "\n",
    "x_val2 = np.array(x_val3).sum(axis=1)\n",
    "y_val2 = np.array(y_val3).sum(axis=1)\n",
    "t_stamps2 = np.array(t_stamps3).sum(axis=1)\n",
    "f_type2 = np.array(f_type3).sum(axis=1)\n",
    "\n",
    "#print(x_val2[6])\n",
    "#print(y_val2[6])\n",
    "print(len(x_val2))\n",
    "print(len(y_val2))\n",
    "print(len(t_stamps2))\n",
    "\n",
    "x_val = []\n",
    "y_val = []\n",
    "t_stamps = []\n",
    "f_type = []\n",
    "\n",
    "for i in range(len(x_val2)):\n",
    "    if math.isnan(x_val2[i]):\n",
    "        pass\n",
    "    elif math.isnan(y_val2[i]):\n",
    "        pass\n",
    "    else:\n",
    "        x_val.append(x_val2[i])\n",
    "        y_val.append(y_val2[i])\n",
    "        t_stamps.append(t_stamps2[i]/1000000)\n",
    "        f_type.append(f_type2[i])\n",
    "        \n",
    "print(len(x_val))\n",
    "print(len(y_val))\n",
    "print(len(t_stamps))\n"
   ]
  },
  {
   "cell_type": "code",
   "execution_count": 8,
   "id": "alleged-clinic",
   "metadata": {},
   "outputs": [
    {
     "name": "stdout",
     "output_type": "stream",
     "text": [
      "Timestamps\n",
      "112243\n"
     ]
    }
   ],
   "source": [
    "# Feature Duration\n",
    "\n",
    "print(\"Timestamps\")\n",
    "#print(fix_timestamp)\n",
    "\n",
    "duration_diff = []\n",
    "\n",
    "#t_stamps = test.iloc[:, 0:1].values\n",
    "        \n",
    "#print(len(t_stamps))  \n",
    "\n",
    "#Print diff in timestamps for easy feature seperation\n",
    "\n",
    "for i in range(len(x_val)-1):\n",
    "    \n",
    "    if math.isnan(t_stamps[i+1] - t_stamps[i]):\n",
    "        pass\n",
    "    else:\n",
    "        duration_diff.append(t_stamps[i+1] - t_stamps[i])\n",
    "\n",
    "#print(duration_diff)\n",
    "print(len(duration_diff))\n",
    "\n",
    "\n"
   ]
  },
  {
   "cell_type": "code",
   "execution_count": 9,
   "id": "conservative-government",
   "metadata": {},
   "outputs": [
    {
     "name": "stdout",
     "output_type": "stream",
     "text": [
      "112243\n"
     ]
    }
   ],
   "source": [
    "# Feature Displacement\n",
    "\n",
    "point_disp = []  \n",
    "x_point_len = []\n",
    "y_point_len = []\n",
    "    \n",
    "for i in range(len(x_val)-1):\n",
    "    \n",
    "    x_point_len.append(x_val[i+1] - x_val[i])\n",
    "    \n",
    "    y_point_len.append(y_val[i+1] - y_val[i])\n",
    "        \n",
    "    point_disp.append(np.sqrt(x_point_len[i]**2 + y_point_len[i]**2))\n",
    "\n",
    "    \n",
    "    \n",
    "print(len(point_disp))\n",
    "#print(point_disp)\n"
   ]
  },
  {
   "cell_type": "code",
   "execution_count": 10,
   "id": "angry-spank",
   "metadata": {
    "scrolled": true
   },
   "outputs": [
    {
     "name": "stdout",
     "output_type": "stream",
     "text": [
      "112243\n"
     ]
    }
   ],
   "source": [
    "#Velocity\n",
    "\n",
    "point_velo = []\n",
    "    \n",
    "for i in range(len(point_disp)):\n",
    "        \n",
    "    point_velo.append(point_disp[i]/(duration_diff[i]))\n",
    "\n",
    "print(len(point_velo))\n",
    "\n",
    "#plt.scatter(point_disp,duration_diff)\n",
    "#plt.xlabel(\"Displacement\")\n",
    "#plt.ylim(0, 1)\n",
    "#plt.xlim(0, 3.5)\n",
    "#plt.ylabel(\"Duration\")\n",
    "#plt.title(\"Duration v. Displacment (All Points)\")\n",
    "#plt.savefig(\"Fixations_feat_velo\")\n",
    "#plt.show()\n",
    "\n",
    "#plt.scatter(point_velo,duration_diff)\n",
    "#plt.xlabel(\"Velocity\")\n",
    "#plt.ylim(0, 1)\n",
    "#plt.xlim(0, 3.5)\n",
    "#plt.ylabel(\"Duration\")\n",
    "#plt.title(\"Velocity v. Displacment (All Points)\")\n",
    "#plt.savefig(\"Fixations_feat_velo\")\n",
    "#plt.show()\n",
    "\n",
    "#plt.scatter(point_velo,point_disp)\n",
    "#plt.xlabel(\"Velocity (Pixels/Second)\")\n",
    "#plt.ylabel(\"Displacement (Pixels)\")\n",
    "#plt.ylim(0, 400000)\n",
    "#plt.xlim(0, 3.5)\n",
    "#plt.title(\"Velocity v. Displacment (All Points)\")\n",
    "#plt.savefig(\"Fixations_feat_velo\")\n",
    "#plt.show()\n",
    "\n",
    "#sb.histplot(point_velo, element = 'poly', fill= False)\n",
    "#plt.hist(point_velo,500,range=[0,30000]) \n",
    "#plt.title(\"Velocity (All Points)\")\n",
    "#plt.xlabel(\"Velocity (Pixels/Second)\")\n",
    "#plt.ylabel(\"Frequency\")\n",
    "#plt.show()\n",
    "\n",
    "#sb.histplot(point_disp, element = 'poly', fill= False)\n",
    "#plt.hist(point_disp,500,range=[0,300])\n",
    "#plt.title(\"Displacement (All Points)\")\n",
    "#plt.xlabel(\"Displacement (Pixels)\")\n",
    "#plt.ylabel(\"Frequency\")\n",
    "#plt.show()"
   ]
  },
  {
   "cell_type": "code",
   "execution_count": 11,
   "id": "f0202bef",
   "metadata": {},
   "outputs": [],
   "source": [
    "a = np.array(point_velo)[np.array(point_velo) != 0]"
   ]
  },
  {
   "cell_type": "code",
   "execution_count": 12,
   "id": "shared-clock",
   "metadata": {},
   "outputs": [
    {
     "data": {
      "text/plain": [
       "(array([9.4562e+04, 1.5809e+04, 9.5600e+02, 1.5400e+02, 3.5000e+01,\n",
       "        9.0000e+00, 4.0000e+00, 2.0000e+00, 1.0000e+00, 2.0000e+00]),\n",
       " array([-5.44636597e+00,  9.67540398e+03,  1.93562543e+04,  2.90371047e+04,\n",
       "         3.87179550e+04,  4.83988053e+04,  5.80796557e+04,  6.77605060e+04,\n",
       "         7.74413564e+04,  8.71222067e+04,  9.68030570e+04]),\n",
       " <BarContainer object of 10 artists>)"
      ]
     },
     "execution_count": 12,
     "metadata": {},
     "output_type": "execute_result"
    },
    {
     "data": {
      "image/png": "[encoded data removed]",
      "text/plain": [
       "<Figure size 432x288 with 1 Axes>"
      ]
     },
     "metadata": {
      "needs_background": "light"
     },
     "output_type": "display_data"
    }
   ],
   "source": [
    "plt.hist(a)"
   ]
  },
  {
   "cell_type": "code",
   "execution_count": 13,
   "id": "premier-brazil",
   "metadata": {},
   "outputs": [
    {
     "name": "stderr",
     "output_type": "stream",
     "text": [
      "<ipython-input-13-7be61cc048b6>:24: RuntimeWarning: invalid value encountered in true_divide\n",
      "  unit2 = vec2 / np.linalg.norm(vec2)\n",
      "<ipython-input-13-7be61cc048b6>:23: RuntimeWarning: invalid value encountered in true_divide\n",
      "  unit1 = vec1 / np.linalg.norm(vec1)\n",
      "<ipython-input-13-7be61cc048b6>:28: RuntimeWarning: invalid value encountered in arccos\n",
      "  if (math.isnan(np.arccos(dot_product))):\n"
     ]
    }
   ],
   "source": [
    "#Angle\n",
    "\n",
    "theta_np = []\n",
    "\n",
    "ang_time = []\n",
    "\n",
    "duration_diff_corr = []\n",
    "\n",
    "point_velo_corr = []\n",
    "\n",
    "point_disp_corr = []\n",
    "\n",
    "f_type_corr = []\n",
    "\n",
    "x_val_corr = []\n",
    "\n",
    "y_val_corr = []\n",
    "\n",
    "for i in range(len(duration_diff)-1):\n",
    "    vec1 = [x_point_len[i],y_point_len[i]]\n",
    "    vec2 = [x_point_len[i+1],y_point_len[i+1]]\n",
    " \n",
    "    unit1 = vec1 / np.linalg.norm(vec1)\n",
    "    unit2 = vec2 / np.linalg.norm(vec2)\n",
    "    dot_product = np.dot(unit1, unit2)\n",
    "    #print(np.arccos(dot_product))\n",
    "    \n",
    "    if (math.isnan(np.arccos(dot_product))):\n",
    "        pass\n",
    "    else:\n",
    "        theta_np.append(abs(math.pi - np.arccos(dot_product)))\n",
    "        ang_time.append(t_stamps[i+1])\n",
    "        duration_diff_corr.append(duration_diff[i])\n",
    "        point_velo_corr.append(point_velo[i])\n",
    "        point_disp_corr.append(point_disp[i])\n",
    "        f_type_corr.append(f_type[i])\n",
    "        x_val_corr.append(x_val[i+1])\n",
    "        y_val_corr.append(y_val[i+1])\n",
    "        \n",
    "#print(len(theta_np))\n",
    "\n",
    "#print(len(duration_diff))\n",
    "#print(len(duration_diff_corr))\n",
    "\n",
    "#sb.histplot(theta_np, element = 'poly', fill= False)\n",
    "#plt.hist(theta_np,200)\n",
    "#plt.title(\"Angle Change (All Points)\")\n",
    "#plt.xlabel(\"Angle Change (Radians)\")\n",
    "#plt.ylabel(\"Frequency\")\n",
    "#plt.show()"
   ]
  },
  {
   "cell_type": "code",
   "execution_count": 14,
   "id": "third-optics",
   "metadata": {},
   "outputs": [
    {
     "name": "stdout",
     "output_type": "stream",
     "text": [
      "5193.003658073282\n",
      "2.6162813893415664\n",
      "-4492.82001770955\n"
     ]
    }
   ],
   "source": [
    "point_velo_eff = []\n",
    "\n",
    "print(point_velo_corr[0])\n",
    "print(theta_np[0])\n",
    "\n",
    "print(point_velo_corr[0] * np.cos(theta_np[0]))\n",
    "\n",
    "for i in range(len(point_velo_corr)):\n",
    "    point_velo_eff.append(point_velo_corr[i] * np.cos(theta_np[i]))"
   ]
  },
  {
   "cell_type": "code",
   "execution_count": 15,
   "id": "north-science",
   "metadata": {
    "scrolled": true
   },
   "outputs": [
    {
     "name": "stdout",
     "output_type": "stream",
     "text": [
      "110793\n",
      "110793\n",
      "110793\n",
      "110793\n",
      "110793\n"
     ]
    }
   ],
   "source": [
    "#Eye-Tracker Algorithm\n",
    "\n",
    "f_type_corr\n",
    "\n",
    "x_fix = []\n",
    "y_fix = []\n",
    "\n",
    "x_sac = []\n",
    "y_sac = []\n",
    "\n",
    "fix_timestamp = []\n",
    "sac_timestamp = []\n",
    "\n",
    "fix_duration = []\n",
    "sac_duration = []\n",
    "\n",
    "fix_displacement = []\n",
    "sac_displacement = []\n",
    "\n",
    "fix_velo = []\n",
    "sac_velo = []\n",
    "out_velo = []\n",
    "\n",
    "fix_velo_eff = []\n",
    "sac_velo_eff = []\n",
    "\n",
    "fix_theta = []\n",
    "sac_theta = []\n",
    "\n",
    "classifier = []\n",
    "\n",
    "outliers = []\n",
    "\n",
    "for i in range (len(f_type_corr)):\n",
    "    if f_type_corr[i] == \"Fixation\":\n",
    "        x_fix.append(x_val_corr[i])\n",
    "        y_fix.append(y_val_corr[i])\n",
    "        fix_timestamp.append(ang_time[i])\n",
    "        fix_duration.append(duration_diff_corr[i])\n",
    "        fix_displacement.append(point_disp_corr[i])\n",
    "        fix_velo.append(point_velo_corr[i])\n",
    "        fix_theta.append(theta_np[i])\n",
    "        fix_velo_eff.append(point_velo_eff[i])\n",
    "        classifier.append(\"fixation\")\n",
    "        \n",
    "    elif f_type_corr[i] == \"Saccade\":\n",
    "        x_sac.append(x_val_corr[i])\n",
    "        y_sac.append(y_val_corr[i])\n",
    "        sac_timestamp.append(ang_time[i])\n",
    "        sac_duration.append(duration_diff_corr[i])\n",
    "        sac_displacement.append(point_disp_corr[i])\n",
    "        sac_velo.append(point_velo_corr[i])\n",
    "        sac_theta.append(theta_np[i])\n",
    "        sac_velo_eff.append(point_velo_eff[i])\n",
    "        classifier.append(\"saccade\")\n",
    "        \n",
    "    else:\n",
    "        classifier.append(\"outlier\")\n",
    "        out_velo.append(point_velo_corr[i])\n",
    "        \n",
    "\n",
    "print(len(f_type_corr))\n",
    "print(len(x_val_corr))\n",
    "print(len(y_val_corr))\n",
    "print(len(ang_time))\n",
    "print(len(classifier))\n",
    "\n",
    "#print(len(x_sac + y_sac))\n",
    "\n",
    "#print(outliers)\n",
    "#print(len(outliers))\n",
    "\n",
    "x_fix_s = []\n",
    "y_fix_s = []\n",
    "x_sac_s = []\n",
    "y_sac_s = []\n",
    "\n",
    "for j in range(4117):\n",
    "    x_fix_s.append(x_fix[j])\n",
    "    y_fix_s.append(y_fix[j])\n",
    "    x_sac_s.append(x_sac[j])\n",
    "    y_sac_s.append(y_sac[j])\n"
   ]
  },
  {
   "cell_type": "code",
   "execution_count": 16,
   "id": "rough-player",
   "metadata": {
    "scrolled": false
   },
   "outputs": [],
   "source": [
    "#np.savetxt('x_values.txt', np.array(x_val_corr), fmt='%.2f')\n",
    "#np.savetxt('y_values.txt', np.array(y_val_corr), fmt='%.2f')\n",
    "#np.savetxt('timestamps.txt', np.array(ang_time), fmt='%.2f')\n",
    "#np.savetxt('eyetracker.txt', np.array(x_val_corr), fmt='%.2f')\n",
    "\n",
    "#textfile = open(\"eyetracker.txt\", \"w\")\n",
    "#for element in classifier:\n",
    "    #textfile.write(element + \"\\n\")\n",
    "#textfile.close()"
   ]
  },
  {
   "cell_type": "code",
   "execution_count": 17,
   "id": "110cbf09",
   "metadata": {},
   "outputs": [
    {
     "name": "stderr",
     "output_type": "stream",
     "text": [
      "<ipython-input-17-536ebcf1c41d>:1: RuntimeWarning: invalid value encountered in log\n",
      "  trash = plt.hist(np.log(np.array(point_velo_corr)[np.array(point_velo_corr) != 0]),100)\n"
     ]
    },
    {
     "data": {
      "image/png": "[encoded data removed]",
      "text/plain": [
       "<Figure size 432x288 with 1 Axes>"
      ]
     },
     "metadata": {
      "needs_background": "light"
     },
     "output_type": "display_data"
    }
   ],
   "source": [
    "trash = plt.hist(np.log(np.array(point_velo_corr)[np.array(point_velo_corr) != 0]),100)\n"
   ]
  },
  {
   "cell_type": "markdown",
   "id": "directed-rugby",
   "metadata": {},
   "source": [
    "Fixations"
   ]
  },
  {
   "cell_type": "code",
   "execution_count": 18,
   "id": "69e86c7b",
   "metadata": {
    "scrolled": false
   },
   "outputs": [
    {
     "name": "stderr",
     "output_type": "stream",
     "text": [
      "<ipython-input-18-b74649be379c>:1: RuntimeWarning: invalid value encountered in log\n",
      "  trash = plt.hist(np.log(np.array(fix_velo)[np.array(fix_velo) != 0]),100)\n"
     ]
    },
    {
     "data": {
      "image/png": "[encoded data removed]",
      "text/plain": [
       "<Figure size 432x288 with 1 Axes>"
      ]
     },
     "metadata": {
      "needs_background": "light"
     },
     "output_type": "display_data"
    }
   ],
   "source": [
    "trash = plt.hist(np.log(np.array(fix_velo)[np.array(fix_velo) != 0]),100)"
   ]
  },
  {
   "cell_type": "code",
   "execution_count": 19,
   "id": "9ca11118",
   "metadata": {},
   "outputs": [
    {
     "data": {
      "text/plain": [
       "7.085071116642642"
      ]
     },
     "execution_count": 19,
     "metadata": {},
     "output_type": "execute_result"
    }
   ],
   "source": [
    "np.mean(np.log(np.array(fix_velo)[np.array(fix_velo) > 0.1]))"
   ]
  },
  {
   "cell_type": "code",
   "execution_count": 20,
   "id": "6a5860c9",
   "metadata": {},
   "outputs": [
    {
     "data": {
      "text/plain": [
       "1.2174758590768573"
      ]
     },
     "execution_count": 20,
     "metadata": {},
     "output_type": "execute_result"
    }
   ],
   "source": [
    "np.std(np.log(np.array(fix_velo)[np.array(fix_velo) > 0.1]))"
   ]
  },
  {
   "cell_type": "markdown",
   "id": "competent-draft",
   "metadata": {},
   "source": [
    "Saccades"
   ]
  },
  {
   "cell_type": "code",
   "execution_count": 21,
   "id": "f03892a4",
   "metadata": {},
   "outputs": [
    {
     "data": {
      "text/plain": [
       "8.265543524761522"
      ]
     },
     "execution_count": 21,
     "metadata": {},
     "output_type": "execute_result"
    }
   ],
   "source": [
    "np.mean(np.log(np.array(sac_velo)[np.array(sac_velo) > 0.1]))"
   ]
  },
  {
   "cell_type": "code",
   "execution_count": 22,
   "id": "3a5e8d07",
   "metadata": {},
   "outputs": [
    {
     "data": {
      "text/plain": [
       "1.064378655221646"
      ]
     },
     "execution_count": 22,
     "metadata": {},
     "output_type": "execute_result"
    }
   ],
   "source": [
    "np.std(np.log(np.array(sac_velo)[np.array(sac_velo) > 0.1]))"
   ]
  },
  {
   "cell_type": "code",
   "execution_count": 23,
   "id": "811dfe62",
   "metadata": {},
   "outputs": [
    {
     "name": "stderr",
     "output_type": "stream",
     "text": [
      "<ipython-input-23-26911ebf10b8>:1: RuntimeWarning: invalid value encountered in log\n",
      "  trash = plt.hist(np.log(np.array(sac_velo)[np.array(sac_velo) != 0]),100)\n"
     ]
    },
    {
     "data": {
      "image/png": "[encoded data removed]",
      "text/plain": [
       "<Figure size 432x288 with 1 Axes>"
      ]
     },
     "metadata": {
      "needs_background": "light"
     },
     "output_type": "display_data"
    }
   ],
   "source": [
    "trash = plt.hist(np.log(np.array(sac_velo)[np.array(sac_velo) != 0]),100) "
   ]
  },
  {
   "cell_type": "code",
   "execution_count": 24,
   "id": "aggregate-implement",
   "metadata": {},
   "outputs": [
    {
     "name": "stderr",
     "output_type": "stream",
     "text": [
      "<ipython-input-24-c4c0d459c850>:1: RuntimeWarning: invalid value encountered in log\n",
      "  plt.hist(np.log(np.array(sac_velo)[np.array(sac_velo) != 0]),100,color = \"red\")\n",
      "<ipython-input-24-c4c0d459c850>:2: RuntimeWarning: invalid value encountered in log\n",
      "  plt.hist(np.log(np.array(fix_velo)[np.array(fix_velo) != 0]),100,color = \"blue\", alpha=0.5)\n"
     ]
    },
    {
     "data": {
      "text/plain": [
       "(array([3.000e+00, 0.000e+00, 0.000e+00, 0.000e+00, 0.000e+00, 1.000e+00,\n",
       "        0.000e+00, 0.000e+00, 0.000e+00, 0.000e+00, 1.688e+03, 2.000e+01,\n",
       "        4.000e+00, 0.000e+00, 0.000e+00, 6.000e+00, 1.697e+03, 6.000e+00,\n",
       "        0.000e+00, 1.000e+00, 1.000e+00, 1.498e+03, 3.000e+00, 2.848e+03,\n",
       "        0.000e+00, 1.000e+01, 9.670e+02, 1.554e+03, 2.439e+03, 4.000e+00,\n",
       "        2.102e+03, 8.000e+00, 2.846e+03, 9.560e+02, 1.554e+03, 2.166e+03,\n",
       "        2.352e+03, 9.340e+02, 2.754e+03, 1.951e+03, 9.070e+02, 2.873e+03,\n",
       "        1.222e+03, 2.134e+03, 1.763e+03, 2.016e+03, 1.723e+03, 1.359e+03,\n",
       "        1.645e+03, 1.507e+03, 1.353e+03, 1.312e+03, 1.252e+03, 1.094e+03,\n",
       "        1.147e+03, 9.280e+02, 8.130e+02, 7.080e+02, 6.900e+02, 5.470e+02,\n",
       "        5.070e+02, 4.350e+02, 4.370e+02, 3.570e+02, 3.100e+02, 2.700e+02,\n",
       "        2.580e+02, 1.830e+02, 1.830e+02, 1.250e+02, 1.270e+02, 1.320e+02,\n",
       "        1.150e+02, 1.340e+02, 1.610e+02, 1.970e+02, 3.550e+02, 6.370e+02,\n",
       "        1.086e+03, 1.668e+03, 2.088e+03, 2.031e+03, 1.393e+03, 7.560e+02,\n",
       "        3.470e+02, 1.800e+02, 9.100e+01, 5.900e+01, 5.200e+01, 3.800e+01,\n",
       "        5.200e+01, 4.400e+01, 5.200e+01, 2.000e+01, 2.300e+01, 6.000e+00,\n",
       "        4.000e+00, 6.000e+00, 2.000e+00, 2.000e+00]),\n",
       " array([ 4.09120948,  4.15557208,  4.21993468,  4.28429728,  4.34865988,\n",
       "         4.41302248,  4.47738508,  4.54174767,  4.60611027,  4.67047287,\n",
       "         4.73483547,  4.79919807,  4.86356067,  4.92792327,  4.99228587,\n",
       "         5.05664847,  5.12101107,  5.18537366,  5.24973626,  5.31409886,\n",
       "         5.37846146,  5.44282406,  5.50718666,  5.57154926,  5.63591186,\n",
       "         5.70027446,  5.76463706,  5.82899965,  5.89336225,  5.95772485,\n",
       "         6.02208745,  6.08645005,  6.15081265,  6.21517525,  6.27953785,\n",
       "         6.34390045,  6.40826305,  6.47262564,  6.53698824,  6.60135084,\n",
       "         6.66571344,  6.73007604,  6.79443864,  6.85880124,  6.92316384,\n",
       "         6.98752644,  7.05188904,  7.11625163,  7.18061423,  7.24497683,\n",
       "         7.30933943,  7.37370203,  7.43806463,  7.50242723,  7.56678983,\n",
       "         7.63115243,  7.69551503,  7.75987762,  7.82424022,  7.88860282,\n",
       "         7.95296542,  8.01732802,  8.08169062,  8.14605322,  8.21041582,\n",
       "         8.27477842,  8.33914102,  8.40350361,  8.46786621,  8.53222881,\n",
       "         8.59659141,  8.66095401,  8.72531661,  8.78967921,  8.85404181,\n",
       "         8.91840441,  8.98276701,  9.0471296 ,  9.1114922 ,  9.1758548 ,\n",
       "         9.2402174 ,  9.30458   ,  9.3689426 ,  9.4333052 ,  9.4976678 ,\n",
       "         9.5620304 ,  9.626393  ,  9.69075559,  9.75511819,  9.81948079,\n",
       "         9.88384339,  9.94820599, 10.01256859, 10.07693119, 10.14129379,\n",
       "        10.20565639, 10.27001899, 10.33438158, 10.39874418, 10.46310678,\n",
       "        10.52746938]),\n",
       " <BarContainer object of 100 artists>)"
      ]
     },
     "execution_count": 24,
     "metadata": {},
     "output_type": "execute_result"
    },
    {
     "data": {
      "image/png": "[encoded data removed]",
      "text/plain": [
       "<Figure size 432x288 with 1 Axes>"
      ]
     },
     "metadata": {
      "needs_background": "light"
     },
     "output_type": "display_data"
    }
   ],
   "source": [
    "plt.hist(np.log(np.array(sac_velo)[np.array(sac_velo) != 0]),100,color = \"red\")\n",
    "plt.hist(np.log(np.array(fix_velo)[np.array(fix_velo) != 0]),100,color = \"blue\", alpha=0.5)"
   ]
  },
  {
   "cell_type": "markdown",
   "id": "architectural-notification",
   "metadata": {},
   "source": [
    "Outliers"
   ]
  },
  {
   "cell_type": "code",
   "execution_count": 25,
   "id": "former-talent",
   "metadata": {},
   "outputs": [
    {
     "data": {
      "text/plain": [
       "7.571945685925002"
      ]
     },
     "execution_count": 25,
     "metadata": {},
     "output_type": "execute_result"
    }
   ],
   "source": [
    "#outlier mean\n",
    "np.mean(np.log(np.array(out_velo)[np.array(out_velo) > 0.1]))"
   ]
  },
  {
   "cell_type": "code",
   "execution_count": 26,
   "id": "devoted-speed",
   "metadata": {},
   "outputs": [
    {
     "data": {
      "text/plain": [
       "1.2518879308807083"
      ]
     },
     "execution_count": 26,
     "metadata": {},
     "output_type": "execute_result"
    }
   ],
   "source": [
    "#outlier std\n",
    "np.std(np.log(np.array(out_velo)[np.array(out_velo) > 0.1]))"
   ]
  },
  {
   "cell_type": "code",
   "execution_count": 27,
   "id": "vertical-relief",
   "metadata": {},
   "outputs": [
    {
     "name": "stderr",
     "output_type": "stream",
     "text": [
      "<ipython-input-27-11085476a210>:2: RuntimeWarning: invalid value encountered in log\n",
      "  trash = plt.hist(np.log(np.array(out_velo)[np.array(out_velo) != 0]),100)\n"
     ]
    },
    {
     "data": {
      "image/png": "[encoded data removed]",
      "text/plain": [
       "<Figure size 432x288 with 1 Axes>"
      ]
     },
     "metadata": {
      "needs_background": "light"
     },
     "output_type": "display_data"
    }
   ],
   "source": [
    "#outlier hist\n",
    "trash = plt.hist(np.log(np.array(out_velo)[np.array(out_velo) != 0]),100) "
   ]
  },
  {
   "cell_type": "code",
   "execution_count": 28,
   "id": "foster-appeal",
   "metadata": {},
   "outputs": [
    {
     "name": "stdout",
     "output_type": "stream",
     "text": [
      "0.6524960963237749\n",
      "0.22863357793362396\n",
      "0.11886129990161834\n",
      "\n",
      "0.14453981749749534\n"
     ]
    }
   ],
   "source": [
    "#Parameters for probability distribution\n",
    "\n",
    "transition = 0\n",
    "fixat = 0\n",
    "sacca = 0\n",
    "outlie = 0\n",
    "\n",
    "for i in range(len(classifier)-1):\n",
    "    if classifier[i] != classifier[i+1]:\n",
    "        transition = transition + 1\n",
    "        \n",
    "for j in range(len(classifier)-1):\n",
    "    if classifier[j] == \"fixation\":\n",
    "        fixat = fixat + 1\n",
    "    elif classifier[j] == \"saccade\":\n",
    "        sacca = sacca + 1\n",
    "    else:\n",
    "        outlie = outlie + 1\n",
    "\n",
    "print(fixat/len(classifier))        \n",
    "print(sacca/len(classifier))\n",
    "print(outlie/len(classifier))\n",
    "print(\"\\n\" + str(transition/len(classifier)))\n"
   ]
  },
  {
   "cell_type": "code",
   "execution_count": 29,
   "id": "4a194a57",
   "metadata": {},
   "outputs": [],
   "source": [
    "#classifier"
   ]
  },
  {
   "cell_type": "code",
   "execution_count": 39,
   "id": "fdf0f9c1",
   "metadata": {},
   "outputs": [
    {
     "name": "stdout",
     "output_type": "stream",
     "text": [
      "0.119\n"
     ]
    }
   ],
   "source": [
    "0.146/(0.621+0.146)"
   ]
  },
  {
   "cell_type": "code",
   "execution_count": null,
   "id": "surprising-remark",
   "metadata": {},
   "outputs": [],
   "source": [
    "0.652\n",
    "0.229\n",
    "0.119"
   ]
  },
  {
   "cell_type": "code",
   "execution_count": 47,
   "id": "29905a81",
   "metadata": {},
   "outputs": [
    {
     "name": "stderr",
     "output_type": "stream",
     "text": [
      "<ipython-input-47-62bbbe593f23>:1: FutureWarning: Using a non-tuple sequence for multidimensional indexing is deprecated; use `arr[tuple(seq)]` instead of `arr[seq]`. In the future this will be interpreted as an array index, `arr[np.array(seq)]`, which will result either in an error or a different result.\n",
      "  new_velo = np.array(point_velo_corr)[[np.array(point_velo_corr)>1]]\n"
     ]
    }
   ],
   "source": [
    "new_velo = np.array(point_velo_corr)[[np.array(point_velo_corr)>1]]"
   ]
  },
  {
   "cell_type": "code",
   "execution_count": 48,
   "id": "turkish-dallas",
   "metadata": {},
   "outputs": [
    {
     "name": "stdout",
     "output_type": "stream",
     "text": [
      "4969\n",
      "9697\n",
      "17321\n",
      "35849\n",
      "58477\n",
      "83157\n",
      "104430\n"
     ]
    }
   ],
   "source": [
    "for i in range (len(point_velo_corr)):\n",
    "    if point_velo_corr[i] < 0:\n",
    "        print(i)"
   ]
  },
  {
   "cell_type": "code",
   "execution_count": 49,
   "id": "ea4cf5ef",
   "metadata": {},
   "outputs": [],
   "source": [
    "from pomegranate import *\n",
    "s1 = State(LogNormalDistribution(7.09, 1.22)) #fixations\n",
    "s2 = State(LogNormalDistribution(8.27, 1.06)) #saccades\n",
    "s3 = State(LogNormalDistribution(7.57, 1.25)) #outliers\n",
    "model = HiddenMarkovModel()\n",
    "model.add_states(s1, s2, s3)\n",
    "model.add_transition(model.start, s1, 1.0)\n",
    "model.add_transition(s1, s1, 0.652)\n",
    "model.add_transition(s1, s2, 0.229)\n",
    "model.add_transition(s1, s3, 0.119)        \n",
    "model.add_transition(s2, s1, 0.652)\n",
    "model.add_transition(s2, s2, 0.229)\n",
    "model.add_transition(s2, s3, 0.119)\n",
    "model.add_transition(s3, s1, 0.652)\n",
    "model.add_transition(s3, s2, 0.229)\n",
    "model.add_transition(s3, s3, 0.119)\n",
    "model.add_transition(s3, model.end, 0.1)\n",
    "model.bake()"
   ]
  },
  {
   "cell_type": "code",
   "execution_count": 50,
   "id": "cd0cc401",
   "metadata": {},
   "outputs": [
    {
     "data": {
      "text/plain": [
       "0"
      ]
     },
     "execution_count": 50,
     "metadata": {},
     "output_type": "execute_result"
    }
   ],
   "source": [
    "np.sum([np.array(new_velo)<=0])"
   ]
  },
  {
   "cell_type": "code",
   "execution_count": null,
   "id": "394e568f",
   "metadata": {},
   "outputs": [],
   "source": []
  },
  {
   "cell_type": "code",
   "execution_count": 51,
   "id": "24def2ab",
   "metadata": {},
   "outputs": [],
   "source": [
    "#sequence2 = model.sample()"
   ]
  },
  {
   "cell_type": "code",
   "execution_count": 52,
   "id": "15dcc078",
   "metadata": {},
   "outputs": [
    {
     "data": {
      "text/plain": [
       "2888.711665777215"
      ]
     },
     "execution_count": 52,
     "metadata": {},
     "output_type": "execute_result"
    }
   ],
   "source": [
    "new_velo[2]"
   ]
  },
  {
   "cell_type": "code",
   "execution_count": 53,
   "id": "0b72ef24",
   "metadata": {},
   "outputs": [],
   "source": [
    "#len(new_velo) - len(point_velo)"
   ]
  },
  {
   "cell_type": "code",
   "execution_count": 54,
   "id": "e521e8cf",
   "metadata": {
    "scrolled": false
   },
   "outputs": [
    {
     "data": {
      "text/plain": [
       "{\n",
       "    \"class\" : \"HiddenMarkovModel\",\n",
       "    \"name\" : \"None\",\n",
       "    \"start\" : {\n",
       "        \"class\" : \"State\",\n",
       "        \"distribution\" : null,\n",
       "        \"name\" : \"None-start\",\n",
       "        \"weight\" : 1.0\n",
       "    },\n",
       "    \"end\" : {\n",
       "        \"class\" : \"State\",\n",
       "        \"distribution\" : null,\n",
       "        \"name\" : \"None-end\",\n",
       "        \"weight\" : 1.0\n",
       "    },\n",
       "    \"states\" : [\n",
       "        {\n",
       "            \"class\" : \"State\",\n",
       "            \"distribution\" : {\n",
       "                \"class\" : \"Distribution\",\n",
       "                \"name\" : \"LogNormalDistribution\",\n",
       "                \"parameters\" : [\n",
       "                    7.84701526381963,\n",
       "                    1.135354336132405\n",
       "                ],\n",
       "                \"frozen\" : false\n",
       "            },\n",
       "            \"name\" : \"2b681824-0f4d-4da6-b79a-7effe9805e86\",\n",
       "            \"weight\" : 1.0\n",
       "        },\n",
       "        {\n",
       "            \"class\" : \"State\",\n",
       "            \"distribution\" : {\n",
       "                \"class\" : \"Distribution\",\n",
       "                \"name\" : \"LogNormalDistribution\",\n",
       "                \"parameters\" : [\n",
       "                    6.678858741628718,\n",
       "                    0.8337610038872256\n",
       "                ],\n",
       "                \"frozen\" : false\n",
       "            },\n",
       "            \"name\" : \"7a044e34-6ffa-46ae-8cce-68841a27e68d\",\n",
       "            \"weight\" : 1.0\n",
       "        },\n",
       "        {\n",
       "            \"class\" : \"State\",\n",
       "            \"distribution\" : {\n",
       "                \"class\" : \"Distribution\",\n",
       "                \"name\" : \"LogNormalDistribution\",\n",
       "                \"parameters\" : [\n",
       "                    9.292885853940389,\n",
       "                    0.1568233861665989\n",
       "                ],\n",
       "                \"frozen\" : false\n",
       "            },\n",
       "            \"name\" : \"f9d68195-9cbe-49c6-886f-6f5b1eb69f13\",\n",
       "            \"weight\" : 1.0\n",
       "        },\n",
       "        {\n",
       "            \"class\" : \"State\",\n",
       "            \"distribution\" : null,\n",
       "            \"name\" : \"None-start\",\n",
       "            \"weight\" : 1.0\n",
       "        },\n",
       "        {\n",
       "            \"class\" : \"State\",\n",
       "            \"distribution\" : null,\n",
       "            \"name\" : \"None-end\",\n",
       "            \"weight\" : 1.0\n",
       "        }\n",
       "    ],\n",
       "    \"end_index\" : 4,\n",
       "    \"start_index\" : 3,\n",
       "    \"silent_index\" : 3,\n",
       "    \"edges\" : [\n",
       "        [\n",
       "            3,\n",
       "            1,\n",
       "            1.0,\n",
       "            1.0,\n",
       "            null\n",
       "        ],\n",
       "        [\n",
       "            1,\n",
       "            1,\n",
       "            0.9278421967325644,\n",
       "            0.652,\n",
       "            null\n",
       "        ],\n",
       "        [\n",
       "            1,\n",
       "            2,\n",
       "            0.022517915465104333,\n",
       "            0.229,\n",
       "            null\n",
       "        ],\n",
       "        [\n",
       "            1,\n",
       "            0,\n",
       "            0.049639887802331285,\n",
       "            0.119,\n",
       "            null\n",
       "        ],\n",
       "        [\n",
       "            2,\n",
       "            1,\n",
       "            0.06705926348419611,\n",
       "            0.652,\n",
       "            null\n",
       "        ],\n",
       "        [\n",
       "            2,\n",
       "            2,\n",
       "            0.4132241840874774,\n",
       "            0.229,\n",
       "            null\n",
       "        ],\n",
       "        [\n",
       "            2,\n",
       "            0,\n",
       "            0.5197165524283266,\n",
       "            0.119,\n",
       "            null\n",
       "        ],\n",
       "        [\n",
       "            0,\n",
       "            1,\n",
       "            0.10197591080997254,\n",
       "            0.652,\n",
       "            null\n",
       "        ],\n",
       "        [\n",
       "            0,\n",
       "            2,\n",
       "            0.2531962982762177,\n",
       "            0.229,\n",
       "            null\n",
       "        ],\n",
       "        [\n",
       "            0,\n",
       "            0,\n",
       "            0.6447972319367281,\n",
       "            0.119,\n",
       "            null\n",
       "        ],\n",
       "        [\n",
       "            0,\n",
       "            4,\n",
       "            3.055897708168795e-05,\n",
       "            0.1,\n",
       "            null\n",
       "        ]\n",
       "    ],\n",
       "    \"distribution ties\" : []\n",
       "}"
      ]
     },
     "execution_count": 54,
     "metadata": {},
     "output_type": "execute_result"
    }
   ],
   "source": [
    "model.fit([new_velo])"
   ]
  },
  {
   "cell_type": "code",
   "execution_count": 55,
   "id": "6d556888",
   "metadata": {},
   "outputs": [],
   "source": [
    "#sequence = model.sample()"
   ]
  },
  {
   "cell_type": "code",
   "execution_count": 56,
   "id": "e73b2ddd",
   "metadata": {},
   "outputs": [],
   "source": [
    "#sequence"
   ]
  },
  {
   "cell_type": "code",
   "execution_count": 57,
   "id": "04d43d8d",
   "metadata": {},
   "outputs": [],
   "source": [
    "#model.fit([sequence])"
   ]
  },
  {
   "cell_type": "code",
   "execution_count": 58,
   "id": "b4506d37",
   "metadata": {},
   "outputs": [
    {
     "data": {
      "text/plain": [
       "0"
      ]
     },
     "execution_count": 58,
     "metadata": {},
     "output_type": "execute_result"
    }
   ],
   "source": [
    "model.viterbi(new_velo)[1][100][0]"
   ]
  },
  {
   "cell_type": "code",
   "execution_count": 59,
   "id": "adjacent-metadata",
   "metadata": {},
   "outputs": [],
   "source": [
    "#model.viterbi(point_velo_corr)[1][100][0]"
   ]
  },
  {
   "cell_type": "code",
   "execution_count": 64,
   "id": "9a11e6a4",
   "metadata": {},
   "outputs": [
    {
     "name": "stdout",
     "output_type": "stream",
     "text": [
      "110786\n"
     ]
    }
   ],
   "source": [
    "0 in fix_velo"
   ]
  },
  {
   "cell_type": "code",
   "execution_count": null,
   "id": "controlled-nightlife",
   "metadata": {
    "scrolled": false
   },
   "outputs": [],
   "source": [
    "count = 0\n",
    "\n",
    "x_fix = []\n",
    "y_fix = []\n",
    "\n",
    "x_sac = []\n",
    "y_sac = []\n",
    "\n",
    "x_out = []\n",
    "y_out = []\n",
    "\n",
    "fix_timestamp = []\n",
    "sac_timestamp = []\n",
    "out_timestamp = []\n",
    "\n",
    "fix_duration = []\n",
    "sac_duration = []\n",
    "out_duration = []\n",
    "\n",
    "fix_displacement = []\n",
    "sac_displacement = []\n",
    "out_displacement = []\n",
    "\n",
    "fix_velo = []\n",
    "sac_velo = []\n",
    "out_velo = []\n",
    "\n",
    "fix_theta = []\n",
    "sac_theta = []\n",
    "out_theta = []\n",
    "\n",
    "classifier = []\n",
    "\n",
    "outliers = []\n",
    "\n",
    "for j in range (len(new_velo)):\n",
    "    if model.viterbi(new_velo)[1][j][0] == 2:\n",
    "        x_fix.append(x_val_corr[j])\n",
    "        y_fix.append(y_val_corr[j])\n",
    "        fix_timestamp.append(ang_time[j])\n",
    "        fix_duration.append(duration_diff_corr[j])\n",
    "        fix_displacement.append(point_disp_corr[j])\n",
    "        fix_velo.append(point_velo_corr[j])\n",
    "        fix_theta.append(theta_np[j])\n",
    "        classifier.append(\"fixation\")\n",
    "    elif model.viterbi(new_velo)[1][j][0] == 0:\n",
    "        x_sac.append(x_val_corr[j])\n",
    "        y_sac.append(y_val_corr[j])\n",
    "        sac_timestamp.append(ang_time[j])\n",
    "        sac_duration.append(duration_diff_corr[j])\n",
    "        sac_displacement.append(point_disp_corr[j])\n",
    "        sac_velo.append(point_velo_corr[j])\n",
    "        sac_theta.append(theta_np[j])\n",
    "        classifier.append(\"saccade\")    \n",
    "    else:\n",
    "        x_out.append(x_val_corr[j])\n",
    "        y_out.append(y_val_corr[j])\n",
    "        out_timestamp.append(ang_time[j])\n",
    "        out_duration.append(duration_diff_corr[j])\n",
    "        out_displacement.append(point_disp_corr[j])\n",
    "        out_velo.append(point_velo_corr[j])\n",
    "        out_theta.append(theta_np[j])\n",
    "        classifier.append(\"outlier\")        \n",
    "    \n",
    "print(len(x_fix))\n",
    "print(len(x_sac))\n",
    "print(len(x_out))\n",
    "\n",
    "\n",
    "x_fix_s = []\n",
    "y_fix_s = []\n",
    "x_sac_s = []\n",
    "y_sac_s = []\n",
    "\n",
    "for k in range(4117):\n",
    "    x_fix_s.append(x_fix[k])\n",
    "    y_fix_s.append(y_fix[k])\n",
    "    x_sac_s.append(x_sac[k])\n",
    "    y_sac_s.append(y_sac[k])\n"
   ]
  },
  {
   "cell_type": "code",
   "execution_count": null,
   "id": "undefined-concord",
   "metadata": {
    "scrolled": false
   },
   "outputs": [],
   "source": [
    "plt.scatter(x_fix_s,y_fix_s, s=20.0, c=\"red\",label=\"Fixations\")\n",
    "plt.plot(x_sac_s,y_sac_s, c=\"blue\",label=\"Saccades\")\n",
    "plt.legend()\n",
    "plt.ylabel(\"Y-Coordinates\")\n",
    "plt.ylim(-250, 1250)\n",
    "plt.xlim(-200, 2000)\n",
    "plt.xlabel(\"X-Coordinates\")\n",
    "plt.title(\"X-Axis & Y-Axis (Fix v. Sac)\")\n",
    "plt.savefig(\"X_y_fix_sac\")\n",
    "plt.show()\n",
    "\n",
    "plt.scatter(sac_velo,sac_displacement, c=\"blue\",label=\"Saccades\")\n",
    "plt.scatter(fix_velo,fix_displacement, c=\"red\",label=\"Fixations\")\n",
    "plt.legend()\n",
    "plt.xlabel(\"Velocity (Pixels/Second)\")\n",
    "plt.ylabel(\"Displacement (Pixels)\")\n",
    "#plt.ylim(0, 400000)\n",
    "#plt.xlim(0, 3.5)\n",
    "plt.title(\"Velocity v. Displacment (Fixations v. Saccades)\")\n",
    "plt.savefig(\"Fixations_saccades_velo_disp\")\n",
    "plt.show()\n",
    "\n",
    "plt.scatter(x_fix,y_fix, s=0.5, c=\"red\",label=\"Fixations\")\n",
    "plt.scatter(x_sac,y_sac, s=0.5, c=\"blue\",label=\"Saccades\")\n",
    "plt.legend()\n",
    "plt.ylabel(\"Y-Coordinates\")\n",
    "plt.ylim(-250, 1250)\n",
    "plt.xlim(-200, 2000)\n",
    "plt.xlabel(\"X-Coordinates\")\n",
    "plt.title(\"X-Axis & Y-Axis (Fix v. Sac)\")\n",
    "#plt.savefig(\"Fixations_feat_velo\")\n",
    "plt.show()\n",
    "\n",
    "#sb.histplot(fix_velo, element = 'poly', fill= False)\n",
    "#sb.histplot(sac_velo, element = 'poly', fill= False)\n",
    "plt.hist(fix_velo,100,range=[0,30000], color =\"red\",label=\"Fixations\")\n",
    "plt.hist(sac_velo,100,range=[0,30000], color =\"blue\",label=\"Saccades\", alpha=0.5)\n",
    "plt.legend()\n",
    "plt.title(\"Velocity (Fixations v. Saccades)\")\n",
    "plt.xlabel(\"Velocity (Pixels/Second)\")\n",
    "plt.ylabel(\"Frequency\")\n",
    "plt.savefig(\"Fixations_saccades_velo_hist\")\n",
    "plt.show()\n",
    "\n",
    "#sb.histplot(fix_displacement, element = 'poly', fill= False)\n",
    "#sb.histplot(sac_displacement, element = 'poly', fill= False)\n",
    "plt.hist(fix_displacement,100,range=[0,300], color =\"red\",label=\"Fixations\")\n",
    "plt.hist(sac_displacement,100,range=[0,300], color =\"blue\",label=\"Saccades\", alpha=0.5)\n",
    "plt.legend()\n",
    "plt.title(\"Displacement (Fixations v. Saccades)\")\n",
    "plt.xlabel(\"Displacement (Pixels)\")\n",
    "plt.ylabel(\"Frequency\")\n",
    "plt.savefig(\"Fixations_saccades_disp_hist\")\n",
    "plt.show()\n",
    "\n",
    "#sb.histplot(fix_theta, element = 'poly', fill= False)\n",
    "#sb.histplot(sac_theta, element = 'poly', fill= False)\n",
    "plt.hist(fix_theta,100, color =\"red\",label=\"Fixations\")\n",
    "plt.hist(sac_theta,100, color =\"blue\",label=\"Saccades\", alpha=0.5)\n",
    "plt.legend()\n",
    "plt.title(\"Angle Change (Fix v. Sac)\")\n",
    "plt.xlabel(\"Angle Change (Radians)\")\n",
    "plt.ylabel(\"Frequency\")\n",
    "plt.savefig(\"Fix_v_sac_angle_hist\")\n",
    "plt.show()\n",
    "\n",
    "#plt.hist(fix_velo_eff,100,range=[-25000,25000],color =\"red\",label=\"Fixations\")\n",
    "#plt.legend()\n",
    "#plt.title(\"Velocity-Angle Change (Fix)\")\n",
    "#plt.xlabel(\"Velocity-Angle Change (Radians)\")\n",
    "#plt.ylabel(\"Frequency\")\n",
    "#plt.savefig(\"Fix_vel_angle_hist\")\n",
    "#plt.show()\n",
    "\n",
    "#plt.hist(sac_velo_eff,100,range=[-25000,25000],color =\"blue\",label=\"Saccades\")\n",
    "#plt.legend()\n",
    "#plt.title(\"Velocity-Angle Change (Sac)\")\n",
    "#plt.xlabel(\"Velocity-Angle Change (Radians)\")\n",
    "#plt.ylabel(\"Frequency\")\n",
    "#plt.savefig(\"Sac_vel_angle_hist\")\n",
    "#plt.show()"
   ]
  },
  {
   "cell_type": "code",
   "execution_count": 48,
   "id": "endless-minister",
   "metadata": {},
   "outputs": [],
   "source": [
    "textfile = open(\"hmm.txt\", \"w\")\n",
    "for element in classifier:\n",
    "    textfile.write(element + \"\\n\")\n",
    "textfile.close()\n"
   ]
  },
  {
   "cell_type": "code",
   "execution_count": 49,
   "id": "6de74836",
   "metadata": {},
   "outputs": [],
   "source": [
    "from pomegranate import *"
   ]
  },
  {
   "cell_type": "code",
   "execution_count": 50,
   "id": "romantic-boards",
   "metadata": {},
   "outputs": [],
   "source": [
    "#Resume from here tomorrow"
   ]
  },
  {
   "cell_type": "code",
   "execution_count": 51,
   "id": "educational-hebrew",
   "metadata": {},
   "outputs": [
    {
     "name": "stdout",
     "output_type": "stream",
     "text": [
      "Hamming distance: 13852\n",
      "Accuracy for I-VT: 65.51%\n",
      "\n",
      "\n",
      "Hamming distance: 14194\n",
      "Accuracy for I-AVT: 64.66%\n",
      "\n",
      "\n",
      "Hamming distance: 13319\n",
      "Accuracy for I-DT: 66.84%\n",
      "\n",
      "\n",
      "Hamming distance: 20714\n",
      "Accuracy for I-HMM: 48.43%\n",
      "\n",
      "\n"
     ]
    }
   ],
   "source": [
    "#Hamming Distance\n",
    "\n",
    "results = pd.read_csv(\"text_results/results.csv\")\n",
    "\n",
    "original2 = results.iloc[:, 3:4].values\n",
    "i_vt2 = results.iloc[:, 4:5].values\n",
    "i_avt2 = results.iloc[:, 5:6].values\n",
    "i_dt2 = results.iloc[:, 6:7].values\n",
    "i_hmm2 = results.iloc[:, 7:8].values\n",
    "\n",
    "original = np.array(original2).sum(axis=1)\n",
    "i_vt = np.array(i_vt2).sum(axis=1)\n",
    "i_avt = np.array(i_avt2).sum(axis=1)\n",
    "i_dt = np.array(i_dt2).sum(axis=1)\n",
    "i_hmm = np.array(i_hmm2).sum(axis=1)\n",
    "\n",
    "algos = [i_vt,i_avt,i_dt,i_hmm]\n",
    "names = [\"I-VT\",\"I-AVT\",\"I-DT\",\"I-HMM\"]\n",
    "\n",
    "hamming_distance = 0\n",
    "\n",
    "for i in range(len(algos)):\n",
    "    algo = algos[i]\n",
    "    for j in range(len(original)):\n",
    "        if algo[j] !=  original[j]:\n",
    "            hamming_distance = hamming_distance + 1\n",
    "        else:\n",
    "            pass\n",
    "    print(\"Hamming distance: \" + str(hamming_distance))\n",
    "    h_d = round((((len(original) - hamming_distance)/len(original))*100),2)\n",
    "    print(\"Accuracy for \" + str(names[i]) + \": \" + str(h_d) + \"%\")\n",
    "    print(\"\\n\")\n",
    "    hamming_distance = 0\n",
    "\n"
   ]
  },
  {
   "cell_type": "code",
   "execution_count": null,
   "id": "regional-salem",
   "metadata": {},
   "outputs": [],
   "source": []
  },
  {
   "cell_type": "code",
   "execution_count": 52,
   "id": "existing-cherry",
   "metadata": {},
   "outputs": [],
   "source": [
    "results = pd.read_csv(\"text_results/results.csv\")"
   ]
  },
  {
   "cell_type": "code",
   "execution_count": 53,
   "id": "other-impact",
   "metadata": {},
   "outputs": [
    {
     "data": {
      "text/html": [
       "<div>\n",
       "<style scoped>\n",
       "    .dataframe tbody tr th:only-of-type {\n",
       "        vertical-align: middle;\n",
       "    }\n",
       "\n",
       "    .dataframe tbody tr th {\n",
       "        vertical-align: top;\n",
       "    }\n",
       "\n",
       "    .dataframe thead th {\n",
       "        text-align: right;\n",
       "    }\n",
       "</style>\n",
       "<table border=\"1\" class=\"dataframe\">\n",
       "  <thead>\n",
       "    <tr style=\"text-align: right;\">\n",
       "      <th></th>\n",
       "      <th>timestamps</th>\n",
       "      <th>x_values</th>\n",
       "      <th>y_values</th>\n",
       "      <th>eye_tracker</th>\n",
       "      <th>ivt</th>\n",
       "      <th>iavt</th>\n",
       "      <th>idt</th>\n",
       "      <th>ihmm</th>\n",
       "    </tr>\n",
       "  </thead>\n",
       "  <tbody>\n",
       "    <tr>\n",
       "      <th>0</th>\n",
       "      <td>0.14</td>\n",
       "      <td>305</td>\n",
       "      <td>1074</td>\n",
       "      <td>outlier</td>\n",
       "      <td>saccade</td>\n",
       "      <td>saccade</td>\n",
       "      <td>saccade</td>\n",
       "      <td>outlier</td>\n",
       "    </tr>\n",
       "    <tr>\n",
       "      <th>1</th>\n",
       "      <td>0.15</td>\n",
       "      <td>296</td>\n",
       "      <td>1071</td>\n",
       "      <td>outlier</td>\n",
       "      <td>fixation</td>\n",
       "      <td>fixation</td>\n",
       "      <td>saccade</td>\n",
       "      <td>fixation</td>\n",
       "    </tr>\n",
       "    <tr>\n",
       "      <th>2</th>\n",
       "      <td>0.16</td>\n",
       "      <td>299</td>\n",
       "      <td>1073</td>\n",
       "      <td>outlier</td>\n",
       "      <td>fixation</td>\n",
       "      <td>fixation</td>\n",
       "      <td>saccade</td>\n",
       "      <td>fixation</td>\n",
       "    </tr>\n",
       "    <tr>\n",
       "      <th>3</th>\n",
       "      <td>0.17</td>\n",
       "      <td>301</td>\n",
       "      <td>1076</td>\n",
       "      <td>outlier</td>\n",
       "      <td>fixation</td>\n",
       "      <td>fixation</td>\n",
       "      <td>saccade</td>\n",
       "      <td>fixation</td>\n",
       "    </tr>\n",
       "    <tr>\n",
       "      <th>4</th>\n",
       "      <td>0.18</td>\n",
       "      <td>378</td>\n",
       "      <td>1080</td>\n",
       "      <td>outlier</td>\n",
       "      <td>saccade</td>\n",
       "      <td>saccade</td>\n",
       "      <td>saccade</td>\n",
       "      <td>saccade</td>\n",
       "    </tr>\n",
       "  </tbody>\n",
       "</table>\n",
       "</div>"
      ],
      "text/plain": [
       "   timestamps  x_values  y_values eye_tracker       ivt      iavt      idt  \\\n",
       "0        0.14       305      1074     outlier   saccade   saccade  saccade   \n",
       "1        0.15       296      1071     outlier  fixation  fixation  saccade   \n",
       "2        0.16       299      1073     outlier  fixation  fixation  saccade   \n",
       "3        0.17       301      1076     outlier  fixation  fixation  saccade   \n",
       "4        0.18       378      1080     outlier   saccade   saccade  saccade   \n",
       "\n",
       "       ihmm  \n",
       "0   outlier  \n",
       "1  fixation  \n",
       "2  fixation  \n",
       "3  fixation  \n",
       "4   saccade  "
      ]
     },
     "execution_count": 53,
     "metadata": {},
     "output_type": "execute_result"
    }
   ],
   "source": [
    "results.head()"
   ]
  },
  {
   "cell_type": "code",
   "execution_count": 54,
   "id": "resistant-deployment",
   "metadata": {},
   "outputs": [],
   "source": [
    "results_top = results.head(10)\n",
    "results_bottom = results.tail(10)\n",
    "#print(results_top)\n",
    "#print(results_bottom)\n",
    "\n",
    "results_crop = pd.concat([results.head(10), results.tail(10)])\n",
    "\n",
    "results_final = results.loc[6:25]"
   ]
  },
  {
   "cell_type": "code",
   "execution_count": 55,
   "id": "further-positive",
   "metadata": {
    "scrolled": false
   },
   "outputs": [
    {
     "data": {
      "image/png": "[encoded data removed]",
      "text/plain": [
       "<Figure size 432x288 with 1 Axes>"
      ]
     },
     "metadata": {
      "needs_background": "light"
     },
     "output_type": "display_data"
    }
   ],
   "source": [
    "ax = plt.subplot(111, frame_on=False) # no visible frame\n",
    "ax.xaxis.set_visible(False)  # hide the x axis\n",
    "ax.yaxis.set_visible(False)  # hide the y axis\n",
    "\n",
    "table(ax, results_final.loc[6:25])  # where df is your data frame\n",
    "\n",
    "plt.savefig('results_table_alt.png')"
   ]
  },
  {
   "cell_type": "code",
   "execution_count": 56,
   "id": "yellow-pantyhose",
   "metadata": {},
   "outputs": [],
   "source": [
    "dfi.export(results_final,\"results_table.png\")"
   ]
  },
  {
   "cell_type": "code",
   "execution_count": 57,
   "id": "widespread-annual",
   "metadata": {},
   "outputs": [
    {
     "name": "stdout",
     "output_type": "stream",
     "text": [
      "outlier\n",
      "fixation\n",
      "fixation\n",
      "saccade\n",
      "fixation\n"
     ]
    }
   ],
   "source": [
    "eye_t = results['eye_tracker']\n",
    "i_vt = results['ivt']\n",
    "i_avt = results['iavt']\n",
    "i_dt = results['idt']\n",
    "i_hmm = results['ihmm']\n",
    "\n",
    "print(eye_t[3])\n",
    "print(i_vt[3])\n",
    "print(i_avt[3])\n",
    "print(i_dt[3])\n",
    "print(i_hmm[3])"
   ]
  },
  {
   "cell_type": "code",
   "execution_count": 62,
   "id": "disciplinary-master",
   "metadata": {},
   "outputs": [],
   "source": [
    "all_acc = []\n",
    "all_pre = []\n",
    "all_rec = []\n",
    "\n",
    "def calc_res(algo,name):\n",
    "\n",
    "    comp = sklearn.metrics.confusion_maxrix(eye_t, algo)\n",
    "    \n",
    "    print(comp)\n",
    "    "
   ]
  },
  {
   "cell_type": "code",
   "execution_count": 64,
   "id": "union-looking",
   "metadata": {},
   "outputs": [],
   "source": [
    "all_acc = []\n",
    "all_pre = []\n",
    "all_rec = []\n",
    "\n",
    "def calc_res(algo,name):\n",
    "\n",
    "    comp = sklearn.metrics.confusion_matrix(eye_t, algo)\n",
    "    \n",
    "    print(comp)\n",
    "\n",
    "    comp_matrix = pd.DataFrame(comp,\n",
    "            index = ['fixation','outlier','saccade'], \n",
    "            columns = ['fixation','outlier','saccade'])\n",
    "\n",
    "    plt.figure(figsize=(5,4))\n",
    "    sns.heatmap(comp_matrix, annot=True, cmap='Blues', fmt='g')\n",
    "    plt.title('Confusion Matrix')\n",
    "    plt.ylabel('Eye-tracker')\n",
    "    plt.xlabel('Results')\n",
    "    plt.savefig(name + \"_confusion.png\")\n",
    "    plt.show()\n",
    "\n",
    "    FN_tot = comp[0][1] + comp[0][2] + comp[1][0] + comp[1][2] + comp[2][0] + comp[2][1]\n",
    "    FP_tot = comp[1][0] + comp[2][0] + comp[0][1] + comp[2][1] + comp[0][2] + comp[1][2]\n",
    "    TN_tot = comp[1][1]*2 + comp[1][2] + comp[2][1] + comp[2][2]*2 + comp[0][0]*2 + comp[0][2] + comp[2][0] + comp[0][1] + comp[1][0]\n",
    "    TP_tot = comp[0][0] + comp[1][1] + comp[2][2]\n",
    "\n",
    "    all_acc.append((TP_tot + TN_tot)/(TP_tot + TN_tot + FP_tot + FN_tot))\n",
    "    all_pre.append((TP_tot)/(TP_tot + FP_tot))\n",
    "    all_rec.append((TP_tot)/(TP_tot + FN_tot))\n"
   ]
  },
  {
   "cell_type": "code",
   "execution_count": 65,
   "id": "enhanced-swing",
   "metadata": {},
   "outputs": [
    {
     "name": "stdout",
     "output_type": "stream",
     "text": [
      "[[21212     3  3714]\n",
      " [ 4068     1  1790]\n",
      " [ 4277     0  5098]]\n"
     ]
    },
    {
     "data": {
      "image/png": "[encoded data removed]",
      "text/plain": [
       "<Figure size 360x288 with 2 Axes>"
      ]
     },
     "metadata": {
      "needs_background": "light"
     },
     "output_type": "display_data"
    },
    {
     "name": "stdout",
     "output_type": "stream",
     "text": [
      "[[21488     0  3441]\n",
      " [ 4242     0  1617]\n",
      " [ 4894     0  4481]]\n"
     ]
    },
    {
     "data": {
      "image/png": "[encoded data removed]",
      "text/plain": [
       "<Figure size 360x288 with 2 Axes>"
      ]
     },
     "metadata": {
      "needs_background": "light"
     },
     "output_type": "display_data"
    },
    {
     "name": "stdout",
     "output_type": "stream",
     "text": [
      "[[21756     0  3173]\n",
      " [ 3250     0  2609]\n",
      " [ 4287     0  5088]]\n"
     ]
    },
    {
     "data": {
      "image/png": "[encoded data removed]",
      "text/plain": [
       "<Figure size 360x288 with 2 Axes>"
      ]
     },
     "metadata": {
      "needs_background": "light"
     },
     "output_type": "display_data"
    },
    {
     "name": "stdout",
     "output_type": "stream",
     "text": [
      "[[13004  3183  8742]\n",
      " [  679  1902  3278]\n",
      " [ 1108  3724  4543]]\n"
     ]
    },
    {
     "data": {
      "image/png": "[encoded data removed]",
      "text/plain": [
       "<Figure size 360x288 with 2 Axes>"
      ]
     },
     "metadata": {
      "needs_background": "light"
     },
     "output_type": "display_data"
    }
   ],
   "source": [
    "calc_res(i_vt,\"ivt\")\n",
    "calc_res(i_avt,\"iavt\")\n",
    "calc_res(i_dt,\"idt\")\n",
    "calc_res(i_hmm,\"ihmm\")"
   ]
  },
  {
   "cell_type": "code",
   "execution_count": 61,
   "id": "median-moment",
   "metadata": {},
   "outputs": [
    {
     "name": "stdout",
     "output_type": "stream",
     "text": [
      "         Unnamed: 0      I-VT     I-AVT      I-DT     I-HMM\n",
      "0  Hamming Distance  13835.00  14192.00  13319.00  20714.00\n",
      "1          Accuracy      0.66      0.65      0.67      0.48\n",
      "2         Precision      0.48      0.39      0.40      0.46\n",
      "3            Recall      0.47      0.45      0.47      0.44\n",
      "4         F-1 Score      0.43      0.42      0.44      0.42\n"
     ]
    }
   ],
   "source": [
    "class_rep = pd.read_csv(\"text_results/report.csv\")\n",
    "print(class_rep)\n",
    "dfi.export(class_rep,\"class_table.png\")"
   ]
  },
  {
   "cell_type": "code",
   "execution_count": null,
   "id": "handed-thomson",
   "metadata": {},
   "outputs": [],
   "source": []
  }
 ],
 "metadata": {
  "kernelspec": {
   "display_name": "Python 3",
   "language": "python",
   "name": "python3"
  },
  "language_info": {
   "codemirror_mode": {
    "name": "ipython",
    "version": 3
   },
   "file_extension": ".py",
   "mimetype": "text/x-python",
   "name": "python",
   "nbconvert_exporter": "python",
   "pygments_lexer": "ipython3",
   "version": "3.9.1"
  }
 },
 "nbformat": 4,
 "nbformat_minor": 5
}
