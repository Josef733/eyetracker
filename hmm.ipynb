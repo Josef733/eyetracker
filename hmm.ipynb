{
 "cells": [
  {
   "cell_type": "code",
   "execution_count": 1,
   "id": "single-spell",
   "metadata": {},
   "outputs": [],
   "source": [
    "import numpy as np\n",
    "import matplotlib.pyplot as plt\n",
    "import pandas as pd\n",
    "import math\n",
    "from scipy.stats import kurtosis, skew\n",
    "from pandas.plotting import table\n",
    "#import dataframe_image as dfi\n",
    "import scipy.stats as stats\n",
    "import seaborn as sb\n",
    "import pomegranate as po"
   ]
  },
  {
   "cell_type": "code",
   "execution_count": 5,
   "id": "aggressive-capability",
   "metadata": {},
   "outputs": [],
   "source": [
    "data= []\n",
    "\n",
    "time = []\n",
    "\n",
    "curr_X = []\n",
    "curr_Y = []\n",
    "\n",
    "delta_X = []\n",
    "delta_Y = []\n",
    "\n",
    "delta_time = []\n",
    "\n",
    "disp = []\n",
    "\n",
    "nonX = []\n",
    "nonY = []\n",
    "nonS = []\n",
    "\n",
    "\n",
    "for i in range(2,3):\n",
    "    participant = i\n",
    "    zeros = 4 - len(str(participant))\n",
    "    data.append(pd.read_csv(\"data\\Participant\"+ zeros*'0' + str(participant) + \".tsv\",sep=\"\\t\"))\n",
    "\n",
    "\n",
    "    time.append(data[-1]['Eyetracker timestamp'])\n",
    "    curr_X.append(data[-1]['Gaze point X'])\n",
    "    curr_Y.append(data[-1]['Gaze point Y'])\n",
    "    delta_X.append(np.diff(curr_X[-1]))\n",
    "    delta_Y.append(np.diff(curr_Y[-1]))\n",
    "    delta_time.append(np.diff(time[-1]))\n",
    "    disp.append(np.sqrt(np.diff(curr_X[-1])**2 + np.diff(curr_Y[-1])**2))\n",
    "    #speed.append(disp[-1]/delta_time[-1])\n",
    "\n",
    "    #remove NaN/missing\n",
    "    #nonX.append(d_X[-1][np.logical_not(np.isnan(d_X[-1]))])\n",
    "    #nonY.append(d_Y[-1][np.logical_not(np.isnan(d_Y[-1]))])\n",
    "    #nonS.append(d_S[-1][np.logical_not(np.isnan(d_S[-1]))])\n"
   ]
  },
  {
   "cell_type": "code",
   "execution_count": 6,
   "id": "ffdbf5e7",
   "metadata": {},
   "outputs": [
    {
     "name": "stdout",
     "output_type": "stream",
     "text": [
      "Index(['Recording timestamp', 'Computer timestamp', 'Sensor', 'Project name',\n",
      "       'Export date', 'Participant name', 'Recording name', 'Recording date',\n",
      "       'Recording date UTC', 'Recording start time',\n",
      "       'Recording start time UTC', 'Recording duration', 'Timeline name',\n",
      "       'Recording Fixation filter name', 'Recording software version',\n",
      "       'Recording resolution height', 'Recording resolution width',\n",
      "       'Recording monitor latency', 'Average calibration accuracy (mm)',\n",
      "       'Average calibration precision SD (mm)',\n",
      "       'Average calibration precision RMS (mm)',\n",
      "       'Average calibration accuracy (degrees)',\n",
      "       'Average calibration precision SD (degrees)',\n",
      "       'Average calibration precision RMS (degrees)',\n",
      "       'Average calibration accuracy (pixels)',\n",
      "       'Average calibration precision SD (pixels)',\n",
      "       'Average calibration precision RMS (pixels)',\n",
      "       'Average validation accuracy (mm)',\n",
      "       'Average validation precision SD (mm)',\n",
      "       'Average validation precision RMS (mm)',\n",
      "       'Average validation accuracy (degrees)',\n",
      "       'Average validation precision SD (degrees)',\n",
      "       'Average validation precision RMS (degrees)',\n",
      "       'Average validation accuracy (pixels)',\n",
      "       'Average validation precision SD (pixels)',\n",
      "       'Average validation precision RMS (pixels)', 'Eyetracker timestamp',\n",
      "       'Event', 'Event value', 'Gaze point X', 'Gaze point Y',\n",
      "       'Gaze point left X', 'Gaze point left Y', 'Gaze point right X',\n",
      "       'Gaze point right Y', 'Gaze direction left X', 'Gaze direction left Y',\n",
      "       'Gaze direction left Z', 'Gaze direction right X',\n",
      "       'Gaze direction right Y', 'Gaze direction right Z',\n",
      "       'Pupil diameter left', 'Pupil diameter right', 'Validity left',\n",
      "       'Validity right', 'Eye position left X (DACSmm)',\n",
      "       'Eye position left Y (DACSmm)', 'Eye position left Z (DACSmm)',\n",
      "       'Eye position right X (DACSmm)', 'Eye position right Y (DACSmm)',\n",
      "       'Eye position right Z (DACSmm)', 'Gaze point left X (DACSmm)',\n",
      "       'Gaze point left Y (DACSmm)', 'Gaze point right X (DACSmm)',\n",
      "       'Gaze point right Y (DACSmm)', 'Gaze point X (MCSnorm)',\n",
      "       'Gaze point Y (MCSnorm)', 'Gaze point left X (MCSnorm)',\n",
      "       'Gaze point left Y (MCSnorm)', 'Gaze point right X (MCSnorm)',\n",
      "       'Gaze point right Y (MCSnorm)', 'Presented Stimulus name',\n",
      "       'Presented Media name', 'Presented Media width',\n",
      "       'Presented Media height', 'Presented Media position X (DACSpx)',\n",
      "       'Presented Media position Y (DACSpx)', 'Original Media width',\n",
      "       'Original Media height', 'Eye movement type', 'Gaze event duration',\n",
      "       'Eye movement type index', 'Fixation point X', 'Fixation point Y',\n",
      "       'Fixation point X (MCSnorm)', 'Fixation point Y (MCSnorm)',\n",
      "       'Client area position X (DACSpx)', 'Client area position Y (DACSpx)',\n",
      "       'Viewport position X', 'Viewport position Y', 'Viewport width',\n",
      "       'Viewport height', 'Full page width', 'Full page height',\n",
      "       'Mouse position X', 'Mouse position Y'],\n",
      "      dtype='object')\n"
     ]
    }
   ],
   "source": [
    "a = data[0]\n",
    "print(a.columns)"
   ]
  },
  {
   "cell_type": "code",
   "execution_count": 7,
   "id": "a47409be",
   "metadata": {},
   "outputs": [
    {
     "data": {
      "text/plain": [
       "3        35,0\n",
       "4        35,0\n",
       "5        35,0\n",
       "6        35,0\n",
       "7        40,9\n",
       "         ... \n",
       "46550    37,5\n",
       "46551    37,7\n",
       "46552    37,8\n",
       "46553    37,9\n",
       "46554    38,0\n",
       "Name: Eye position left Y (DACSmm), Length: 39468, dtype: object"
      ]
     },
     "execution_count": 7,
     "metadata": {},
     "output_type": "execute_result"
    }
   ],
   "source": [
    "a['Eye position left Y (DACSmm)'].dropna()"
   ]
  },
  {
   "cell_type": "code",
   "execution_count": 8,
   "id": "85844331",
   "metadata": {},
   "outputs": [
    {
     "data": {
      "text/plain": [
       "747.1283022346296"
      ]
     },
     "execution_count": 8,
     "metadata": {},
     "output_type": "execute_result"
    }
   ],
   "source": [
    "np.sqrt(float(np.array(data[-1]['Eye position left X (DACSmm)'].dropna())[10000].replace(',','.'))**2 + float(np.array(data[-1]['Eye position left Y (DACSmm)'].dropna())[10000].replace(',','.'))**2 + float(np.array(data[-1]['Eye position left Z (DACSmm)'].dropna())[10000].replace(',','.'))**2)"
   ]
  },
  {
   "cell_type": "code",
   "execution_count": 10,
   "id": "patent-politics",
   "metadata": {},
   "outputs": [],
   "source": [
    "test = pd.read_csv(\"data\\Participant\"+ zeros*'0' + str(participant) + \".tsv\",sep=\"\\t\")"
   ]
  },
  {
   "cell_type": "code",
   "execution_count": 11,
   "id": "minimal-australia",
   "metadata": {},
   "outputs": [
    {
     "name": "stdout",
     "output_type": "stream",
     "text": [
      "46556\n",
      "46556\n",
      "46556\n",
      "41174\n",
      "41174\n",
      "41174\n"
     ]
    }
   ],
   "source": [
    "x_val3 = test.iloc[:, 39:40].values\n",
    "y_val3 = test.iloc[:, 40:41].values\n",
    "t_stamps3 = test.iloc[:, 0:1].values\n",
    "f_type3 = test.iloc[:, 79:80].values\n",
    "\n",
    "x_val2 = np.array(x_val3).sum(axis=1)\n",
    "y_val2 = np.array(y_val3).sum(axis=1)\n",
    "t_stamps2 = np.array(t_stamps3).sum(axis=1)\n",
    "f_type2 = np.array(f_type3).sum(axis=1)\n",
    "\n",
    "#print(x_val2[6])\n",
    "#print(y_val2[6])\n",
    "print(len(x_val2))\n",
    "print(len(y_val2))\n",
    "print(len(t_stamps2))\n",
    "\n",
    "x_val = []\n",
    "y_val = []\n",
    "t_stamps = []\n",
    "f_type = []\n",
    "\n",
    "for i in range(len(x_val2)):\n",
    "    if math.isnan(x_val2[i]):\n",
    "        pass\n",
    "    elif math.isnan(y_val2[i]):\n",
    "        pass\n",
    "    else:\n",
    "        x_val.append(x_val2[i])\n",
    "        y_val.append(y_val2[i])\n",
    "        t_stamps.append(t_stamps2[i]/1000000)\n",
    "        f_type.append(f_type2[i])\n",
    "        \n",
    "print(len(x_val))\n",
    "print(len(y_val))\n",
    "print(len(t_stamps))\n"
   ]
  },
  {
   "cell_type": "code",
   "execution_count": 12,
   "id": "alleged-clinic",
   "metadata": {},
   "outputs": [
    {
     "name": "stdout",
     "output_type": "stream",
     "text": [
      "Timestamps\n",
      "41173\n"
     ]
    }
   ],
   "source": [
    "# Feature Duration\n",
    "\n",
    "print(\"Timestamps\")\n",
    "#print(fix_timestamp)\n",
    "\n",
    "duration_diff = []\n",
    "\n",
    "#t_stamps = test.iloc[:, 0:1].values\n",
    "        \n",
    "#print(len(t_stamps))  \n",
    "\n",
    "#Print diff in timestamps for easy feature seperation\n",
    "\n",
    "for i in range(len(x_val)-1):\n",
    "    \n",
    "    if math.isnan(t_stamps[i+1] - t_stamps[i]):\n",
    "        pass\n",
    "    else:\n",
    "        duration_diff.append(t_stamps[i+1] - t_stamps[i])\n",
    "\n",
    "#print(duration_diff)\n",
    "print(len(duration_diff))\n",
    "\n",
    "\n"
   ]
  },
  {
   "cell_type": "code",
   "execution_count": 13,
   "id": "conservative-government",
   "metadata": {},
   "outputs": [
    {
     "name": "stdout",
     "output_type": "stream",
     "text": [
      "41173\n"
     ]
    }
   ],
   "source": [
    "# Feature Displacement\n",
    "\n",
    "point_disp = []  \n",
    "x_point_len = []\n",
    "y_point_len = []\n",
    "    \n",
    "for i in range(len(x_val)-1):\n",
    "    \n",
    "    x_point_len.append(x_val[i+1] - x_val[i])\n",
    "    \n",
    "    y_point_len.append(y_val[i+1] - y_val[i])\n",
    "        \n",
    "    point_disp.append(np.sqrt(x_point_len[i]**2 + y_point_len[i]**2))\n",
    "\n",
    "    \n",
    "    \n",
    "print(len(point_disp))\n",
    "#print(point_disp)\n"
   ]
  },
  {
   "cell_type": "code",
   "execution_count": 14,
   "id": "angry-spank",
   "metadata": {
    "scrolled": true
   },
   "outputs": [
    {
     "name": "stdout",
     "output_type": "stream",
     "text": [
      "41173\n"
     ]
    },
    {
     "data": {
      "image/png": "[encoded data removed]",
      "text/plain": [
       "<Figure size 432x288 with 1 Axes>"
      ]
     },
     "metadata": {
      "needs_background": "light"
     },
     "output_type": "display_data"
    },
    {
     "data": {
      "image/png": "[encoded data removed]",
      "text/plain": [
       "<Figure size 432x288 with 1 Axes>"
      ]
     },
     "metadata": {
      "needs_background": "light"
     },
     "output_type": "display_data"
    },
    {
     "data": {
      "image/png": "[encoded data removed]",
      "text/plain": [
       "<Figure size 432x288 with 1 Axes>"
      ]
     },
     "metadata": {
      "needs_background": "light"
     },
     "output_type": "display_data"
    }
   ],
   "source": [
    "#Velocity\n",
    "\n",
    "point_velo = []\n",
    "    \n",
    "for i in range(len(point_disp)):\n",
    "        \n",
    "    point_velo.append(point_disp[i]/(duration_diff[i]))\n",
    "\n",
    "print(len(point_velo))\n",
    "\n",
    "#plt.scatter(point_disp,duration_diff)\n",
    "#plt.xlabel(\"Displacement\")\n",
    "#plt.ylim(0, 1)\n",
    "#plt.xlim(0, 3.5)\n",
    "#plt.ylabel(\"Duration\")\n",
    "#plt.title(\"Duration v. Displacment (All Points)\")\n",
    "#plt.savefig(\"Fixations_feat_velo\")\n",
    "#plt.show()\n",
    "\n",
    "#plt.scatter(point_velo,duration_diff)\n",
    "#plt.xlabel(\"Velocity\")\n",
    "#plt.ylim(0, 1)\n",
    "#plt.xlim(0, 3.5)\n",
    "#plt.ylabel(\"Duration\")\n",
    "#plt.title(\"Velocity v. Displacment (All Points)\")\n",
    "#plt.savefig(\"Fixations_feat_velo\")\n",
    "#plt.show()\n",
    "\n",
    "plt.scatter(point_velo,point_disp)\n",
    "plt.xlabel(\"Velocity (Pixels/Second)\")\n",
    "plt.ylabel(\"Displacement (Pixels)\")\n",
    "#plt.ylim(0, 400000)\n",
    "#plt.xlim(0, 3.5)\n",
    "plt.title(\"Velocity v. Displacment (All Points)\")\n",
    "#plt.savefig(\"Fixations_feat_velo\")\n",
    "plt.show()\n",
    "\n",
    "sb.histplot(point_velo, element = 'poly', fill= False)\n",
    "plt.hist(point_velo,500,range=[0,30000]) \n",
    "plt.title(\"Velocity (All Points)\")\n",
    "plt.xlabel(\"Velocity (Pixels/Second)\")\n",
    "plt.ylabel(\"Frequency\")\n",
    "plt.show()\n",
    "\n",
    "sb.histplot(point_disp, element = 'poly', fill= False)\n",
    "plt.hist(point_disp,500,range=[0,300])\n",
    "plt.title(\"Displacement (All Points)\")\n",
    "plt.xlabel(\"Displacement (Pixels)\")\n",
    "plt.ylabel(\"Frequency\")\n",
    "plt.show()"
   ]
  },
  {
   "cell_type": "code",
   "execution_count": 15,
   "id": "f0202bef",
   "metadata": {},
   "outputs": [],
   "source": [
    "a = np.array(point_velo)[np.array(point_velo) != 0]"
   ]
  },
  {
   "cell_type": "code",
   "execution_count": 16,
   "id": "shared-clock",
   "metadata": {},
   "outputs": [
    {
     "data": {
      "text/plain": [
       "(array([3.4239e+04, 5.0880e+03, 9.8200e+02, 2.4200e+02, 7.0000e+01,\n",
       "        2.8000e+01, 2.1000e+01, 6.0000e+00, 2.0000e+00, 2.0000e+00]),\n",
       " array([-3.78446830e+01,  6.96023839e+03,  1.39583215e+04,  2.09564045e+04,\n",
       "         2.79544876e+04,  3.49525707e+04,  4.19506538e+04,  4.89487368e+04,\n",
       "         5.59468199e+04,  6.29449030e+04,  6.99429861e+04]),\n",
       " <BarContainer object of 10 artists>)"
      ]
     },
     "execution_count": 16,
     "metadata": {},
     "output_type": "execute_result"
    },
    {
     "data": {
      "image/png": "[encoded data removed]",
      "text/plain": [
       "<Figure size 432x288 with 1 Axes>"
      ]
     },
     "metadata": {
      "needs_background": "light"
     },
     "output_type": "display_data"
    }
   ],
   "source": [
    "plt.hist(a)"
   ]
  },
  {
   "cell_type": "code",
   "execution_count": 17,
   "id": "premier-brazil",
   "metadata": {},
   "outputs": [
    {
     "name": "stderr",
     "output_type": "stream",
     "text": [
      "<ipython-input-17-ad3b842bc14b>:24: RuntimeWarning: invalid value encountered in true_divide\n",
      "  unit2 = vec2 / np.linalg.norm(vec2)\n",
      "<ipython-input-17-ad3b842bc14b>:23: RuntimeWarning: invalid value encountered in true_divide\n",
      "  unit1 = vec1 / np.linalg.norm(vec1)\n",
      "<ipython-input-17-ad3b842bc14b>:28: RuntimeWarning: invalid value encountered in arccos\n",
      "  if (math.isnan(np.arccos(dot_product))):\n"
     ]
    },
    {
     "data": {
      "image/png": "[encoded data removed]",
      "text/plain": [
       "<Figure size 432x288 with 1 Axes>"
      ]
     },
     "metadata": {
      "needs_background": "light"
     },
     "output_type": "display_data"
    }
   ],
   "source": [
    "#Angle\n",
    "\n",
    "theta_np = []\n",
    "\n",
    "ang_time = []\n",
    "\n",
    "duration_diff_corr = []\n",
    "\n",
    "point_velo_corr = []\n",
    "\n",
    "point_disp_corr = []\n",
    "\n",
    "f_type_corr = []\n",
    "\n",
    "x_val_corr = []\n",
    "\n",
    "y_val_corr = []\n",
    "\n",
    "for i in range(len(duration_diff)-1):\n",
    "    vec1 = [x_point_len[i],y_point_len[i]]\n",
    "    vec2 = [x_point_len[i+1],y_point_len[i+1]]\n",
    " \n",
    "    unit1 = vec1 / np.linalg.norm(vec1)\n",
    "    unit2 = vec2 / np.linalg.norm(vec2)\n",
    "    dot_product = np.dot(unit1, unit2)\n",
    "    #print(np.arccos(dot_product))\n",
    "    \n",
    "    if (math.isnan(np.arccos(dot_product))):\n",
    "        pass\n",
    "    else:\n",
    "        theta_np.append(abs(math.pi - np.arccos(dot_product)))\n",
    "        ang_time.append(t_stamps[i+1])\n",
    "        duration_diff_corr.append(duration_diff[i])\n",
    "        point_velo_corr.append(point_velo[i])\n",
    "        point_disp_corr.append(point_disp[i])\n",
    "        f_type_corr.append(f_type[i])\n",
    "        x_val_corr.append(x_val[i+1])\n",
    "        y_val_corr.append(y_val[i+1])\n",
    "        \n",
    "#print(len(theta_np))\n",
    "\n",
    "#print(len(duration_diff))\n",
    "#print(len(duration_diff_corr))\n",
    "\n",
    "sb.histplot(theta_np, element = 'poly', fill= False)\n",
    "plt.hist(theta_np,200)\n",
    "plt.title(\"Angle Change (All Points)\")\n",
    "plt.xlabel(\"Angle Change (Radians)\")\n",
    "plt.ylabel(\"Frequency\")\n",
    "plt.show()"
   ]
  },
  {
   "cell_type": "code",
   "execution_count": 18,
   "id": "third-optics",
   "metadata": {},
   "outputs": [
    {
     "name": "stdout",
     "output_type": "stream",
     "text": [
      "6816.581766256376\n",
      "2.4869188253577694\n",
      "-5407.230149243296\n"
     ]
    }
   ],
   "source": [
    "point_velo_eff = []\n",
    "\n",
    "print(point_velo_corr[0])\n",
    "print(theta_np[0])\n",
    "\n",
    "print(point_velo_corr[0] * np.cos(theta_np[0]))\n",
    "\n",
    "for i in range(len(point_velo_corr)):\n",
    "    point_velo_eff.append(point_velo_corr[i] * np.cos(theta_np[i]))"
   ]
  },
  {
   "cell_type": "code",
   "execution_count": 19,
   "id": "north-science",
   "metadata": {
    "scrolled": true
   },
   "outputs": [
    {
     "name": "stdout",
     "output_type": "stream",
     "text": [
      "40163\n",
      "40163\n",
      "40163\n",
      "40163\n",
      "40163\n"
     ]
    },
    {
     "data": {
      "image/png": "[encoded data removed]",
      "text/plain": [
       "<Figure size 432x288 with 1 Axes>"
      ]
     },
     "metadata": {
      "needs_background": "light"
     },
     "output_type": "display_data"
    },
    {
     "data": {
      "image/png": "[encoded data removed]",
      "text/plain": [
       "<Figure size 432x288 with 1 Axes>"
      ]
     },
     "metadata": {
      "needs_background": "light"
     },
     "output_type": "display_data"
    },
    {
     "data": {
      "image/png": "[encoded data removed]",
      "text/plain": [
       "<Figure size 432x288 with 1 Axes>"
      ]
     },
     "metadata": {
      "needs_background": "light"
     },
     "output_type": "display_data"
    },
    {
     "name": "stderr",
     "output_type": "stream",
     "text": [
      "No handles with labels found to put in legend.\n"
     ]
    },
    {
     "data": {
      "image/png": "[encoded data removed]",
      "text/plain": [
       "<Figure size 432x288 with 1 Axes>"
      ]
     },
     "metadata": {
      "needs_background": "light"
     },
     "output_type": "display_data"
    },
    {
     "name": "stderr",
     "output_type": "stream",
     "text": [
      "No handles with labels found to put in legend.\n"
     ]
    },
    {
     "data": {
      "image/png": "[encoded data removed]",
      "text/plain": [
       "<Figure size 432x288 with 1 Axes>"
      ]
     },
     "metadata": {
      "needs_background": "light"
     },
     "output_type": "display_data"
    },
    {
     "name": "stderr",
     "output_type": "stream",
     "text": [
      "No handles with labels found to put in legend.\n"
     ]
    },
    {
     "data": {
      "image/png": "[encoded data removed]",
      "text/plain": [
       "<Figure size 432x288 with 1 Axes>"
      ]
     },
     "metadata": {
      "needs_background": "light"
     },
     "output_type": "display_data"
    }
   ],
   "source": [
    "#Eye-Tracker Algorithm\n",
    "\n",
    "f_type_corr\n",
    "\n",
    "x_fix = []\n",
    "y_fix = []\n",
    "\n",
    "x_sac = []\n",
    "y_sac = []\n",
    "\n",
    "fix_timestamp = []\n",
    "sac_timestamp = []\n",
    "\n",
    "fix_duration = []\n",
    "sac_duration = []\n",
    "\n",
    "fix_displacement = []\n",
    "sac_displacement = []\n",
    "\n",
    "fix_velo = []\n",
    "sac_velo = []\n",
    "\n",
    "fix_velo_eff = []\n",
    "sac_velo_eff = []\n",
    "\n",
    "fix_theta = []\n",
    "sac_theta = []\n",
    "\n",
    "classifier = []\n",
    "\n",
    "outliers = []\n",
    "\n",
    "for i in range (len(f_type_corr)):\n",
    "    if f_type_corr[i] == \"Fixation\":\n",
    "        x_fix.append(x_val_corr[i])\n",
    "        y_fix.append(y_val_corr[i])\n",
    "        fix_timestamp.append(ang_time[i])\n",
    "        fix_duration.append(duration_diff_corr[i])\n",
    "        fix_displacement.append(point_disp_corr[i])\n",
    "        fix_velo.append(point_velo_corr[i])\n",
    "        fix_theta.append(theta_np[i])\n",
    "        fix_velo_eff.append(point_velo_eff[i])\n",
    "        classifier.append(\"fixation\")\n",
    "        \n",
    "    elif f_type_corr[i] == \"Saccade\":\n",
    "        x_sac.append(x_val_corr[i])\n",
    "        y_sac.append(y_val_corr[i])\n",
    "        sac_timestamp.append(ang_time[i])\n",
    "        sac_duration.append(duration_diff_corr[i])\n",
    "        sac_displacement.append(point_disp_corr[i])\n",
    "        sac_velo.append(point_velo_corr[i])\n",
    "        sac_theta.append(theta_np[i])\n",
    "        sac_velo_eff.append(point_velo_eff[i])\n",
    "        classifier.append(\"saccade\")\n",
    "        \n",
    "    else:\n",
    "        classifier.append(\"outlier\")\n",
    "        \n",
    "\n",
    "print(len(f_type_corr))\n",
    "print(len(x_val_corr))\n",
    "print(len(y_val_corr))\n",
    "print(len(ang_time))\n",
    "print(len(classifier))\n",
    "\n",
    "#print(len(x_sac + y_sac))\n",
    "\n",
    "#print(outliers)\n",
    "#print(len(outliers))\n",
    "\n",
    "x_fix_s = []\n",
    "y_fix_s = []\n",
    "x_sac_s = []\n",
    "y_sac_s = []\n",
    "\n",
    "for j in range(4117):\n",
    "    x_fix_s.append(x_fix[j])\n",
    "    y_fix_s.append(y_fix[j])\n",
    "    x_sac_s.append(x_sac[j])\n",
    "    y_sac_s.append(y_sac[j])\n",
    "\n",
    "plt.scatter(x_fix_s,y_fix_s, s=20.0, c=\"red\",label=\"Fixations\")\n",
    "plt.plot(x_sac_s,y_sac_s, c=\"blue\",label=\"Saccades\")\n",
    "plt.legend()\n",
    "plt.ylabel(\"Y-Coordinates\")\n",
    "plt.ylim(-250, 1250)\n",
    "plt.xlim(-200, 2000)\n",
    "plt.xlabel(\"X-Coordinates\")\n",
    "plt.title(\"X-Axis & Y-Axis (Fix v. Sac)\")\n",
    "plt.savefig(\"X_y_fix_sac\")\n",
    "plt.show()\n",
    "\n",
    "plt.scatter(sac_velo,sac_displacement, c=\"blue\",label=\"Saccades\")\n",
    "plt.scatter(fix_velo,fix_displacement, c=\"red\",label=\"Fixations\")\n",
    "plt.legend()\n",
    "plt.xlabel(\"Velocity (Pixels/Second)\")\n",
    "plt.ylabel(\"Displacement (Pixels)\")\n",
    "#plt.ylim(0, 400000)\n",
    "#plt.xlim(0, 3.5)\n",
    "plt.title(\"Velocity v. Displacment (Fixations v. Saccades)\")\n",
    "plt.savefig(\"Fixations_saccades_velo_disp\")\n",
    "plt.show()\n",
    "\n",
    "plt.scatter(x_fix,y_fix, s=0.5, c=\"red\",label=\"Fixations\")\n",
    "plt.scatter(x_sac,y_sac, s=0.5, c=\"blue\",label=\"Saccades\")\n",
    "plt.legend()\n",
    "plt.ylabel(\"Y-Coordinates\")\n",
    "plt.ylim(-250, 1250)\n",
    "plt.xlim(-200, 2000)\n",
    "plt.xlabel(\"X-Coordinates\")\n",
    "plt.title(\"X-Axis & Y-Axis (Fix v. Sac)\")\n",
    "#plt.savefig(\"Fixations_feat_velo\")\n",
    "plt.show()\n",
    "\n",
    "sb.histplot(fix_velo, element = 'poly', fill= False)\n",
    "sb.histplot(sac_velo, element = 'poly', fill= False)\n",
    "#plt.hist(fix_velo,100,range=[0,30000], color =\"red\",label=\"Fixations\")\n",
    "#plt.hist(sac_velo,100,range=[0,30000], color =\"blue\",label=\"Saccades\")\n",
    "plt.legend()\n",
    "plt.title(\"Velocity (Fixations v. Saccades)\")\n",
    "plt.xlabel(\"Velocity (Pixels/Second)\")\n",
    "plt.ylabel(\"Frequency\")\n",
    "plt.savefig(\"Fixations_saccades_velo_hist\")\n",
    "plt.show()\n",
    "\n",
    "sb.histplot(fix_displacement, element = 'poly', fill= False)\n",
    "sb.histplot(sac_displacement, element = 'poly', fill= False)\n",
    "#plt.hist(fix_displacement,100,range=[0,300], color =\"red\",label=\"Fixations\")\n",
    "#plt.hist(sac_displacement,100,range=[0,300], color =\"blue\",label=\"Saccades\")\n",
    "plt.legend()\n",
    "plt.title(\"Displacement (Fixations v. Saccades)\")\n",
    "plt.xlabel(\"Displacement (Pixels)\")\n",
    "plt.ylabel(\"Frequency\")\n",
    "plt.savefig(\"Fixations_saccades_disp_hist\")\n",
    "plt.show()\n",
    "\n",
    "sb.histplot(fix_theta, element = 'poly', fill= False)\n",
    "sb.histplot(sac_theta, element = 'poly', fill= False)\n",
    "#plt.hist(fix_theta,100, color =\"red\",label=\"Fixations\")\n",
    "#plt.hist(sac_theta,100, color =\"blue\",label=\"Saccades\")\n",
    "plt.legend()\n",
    "plt.title(\"Angle Change (Fix v. Sac)\")\n",
    "plt.xlabel(\"Angle Change (Radians)\")\n",
    "plt.ylabel(\"Frequency\")\n",
    "plt.savefig(\"Fix_v_sac_angle_hist\")\n",
    "plt.show()\n",
    "\n",
    "#plt.hist(fix_velo_eff,100,range=[-25000,25000],color =\"red\",label=\"Fixations\")\n",
    "#plt.legend()\n",
    "#plt.title(\"Velocity-Angle Change (Fix)\")\n",
    "#plt.xlabel(\"Velocity-Angle Change (Radians)\")\n",
    "#plt.ylabel(\"Frequency\")\n",
    "#plt.savefig(\"Fix_vel_angle_hist\")\n",
    "#plt.show()\n",
    "\n",
    "#plt.hist(sac_velo_eff,100,range=[-25000,25000],color =\"blue\",label=\"Saccades\")\n",
    "#plt.legend()\n",
    "#plt.title(\"Velocity-Angle Change (Sac)\")\n",
    "#plt.xlabel(\"Velocity-Angle Change (Radians)\")\n",
    "#plt.ylabel(\"Frequency\")\n",
    "#plt.savefig(\"Sac_vel_angle_hist\")\n",
    "#plt.show()"
   ]
  },
  {
   "cell_type": "code",
   "execution_count": 41,
   "id": "rough-player",
   "metadata": {
    "scrolled": false
   },
   "outputs": [],
   "source": [
    "np.savetxt('x_values.txt', np.array(x_val_corr), fmt='%.2f')\n",
    "np.savetxt('y_values.txt', np.array(y_val_corr), fmt='%.2f')\n",
    "np.savetxt('timestamps.txt', np.array(ang_time), fmt='%.2f')\n",
    "#np.savetxt('eyetracker.txt', np.array(x_val_corr), fmt='%.2f')\n",
    "\n",
    "textfile = open(\"eyetracker.txt\", \"w\")\n",
    "for element in classifier:\n",
    "    textfile.write(element + \"\\n\")\n",
    "textfile.close()"
   ]
  },
  {
   "cell_type": "code",
   "execution_count": null,
   "id": "fiscal-romantic",
   "metadata": {
    "scrolled": false
   },
   "outputs": [],
   "source": [
    "#I-AVT (Angular Velocity Threshold)\n",
    "\n",
    "x_fix = []\n",
    "y_fix = []\n",
    "\n",
    "x_sac = []\n",
    "y_sac = []\n",
    "\n",
    "fix_timestamp = []\n",
    "sac_timestamp = []\n",
    "\n",
    "fix_duration = []\n",
    "sac_duration = []\n",
    "\n",
    "fix_displacement = []\n",
    "sac_displacement = []\n",
    "\n",
    "fix_velo = []\n",
    "sac_velo = []\n",
    "\n",
    "fix_velo_eff = []\n",
    "sac_velo_eff = []\n",
    "\n",
    "fix_theta = []\n",
    "sac_theta = []\n",
    "\n",
    "classifier = []\n",
    "\n",
    "outliers = []\n",
    "\n",
    "angle_velocity_threshold = 3500\n",
    "\n",
    "for i in range (len(point_velo_eff)):\n",
    "    if point_velo_eff[i] >= -(angle_velocity_threshold) and point_velo_eff[i] < angle_velocity_threshold:\n",
    "        x_fix.append(x_val_corr[i])\n",
    "        y_fix.append(y_val_corr[i])\n",
    "        fix_timestamp.append(ang_time[i])\n",
    "        fix_duration.append(duration_diff_corr[i])\n",
    "        fix_displacement.append(point_disp_corr[i])\n",
    "        fix_velo.append(point_velo_corr[i])\n",
    "        fix_theta.append(theta_np[i])\n",
    "        fix_velo_eff.append(point_velo_eff[i])\n",
    "        classifier.append(\"fixation\")\n",
    "        \n",
    "    else:\n",
    "        x_sac.append(x_val_corr[i])\n",
    "        y_sac.append(y_val_corr[i])\n",
    "        sac_timestamp.append(ang_time[i])\n",
    "        sac_duration.append(duration_diff_corr[i])\n",
    "        sac_displacement.append(point_disp_corr[i])\n",
    "        sac_velo.append(point_velo_corr[i])\n",
    "        sac_theta.append(theta_np[i])\n",
    "        sac_velo_eff.append(point_velo_eff[i])\n",
    "        classifier.append(\"saccade\")\n",
    "        \n",
    "\n",
    "\n",
    "print(len(x_val_corr))\n",
    "print(len(y_val_corr))\n",
    "print(len(ang_time))\n",
    "print(len(classifier))\n",
    "\n",
    "#print(len(x_sac + y_sac))\n",
    "\n",
    "print(outliers)\n",
    "print(len(outliers))\n",
    "\n",
    "#print(classifier)\n",
    "\n",
    "print(len(x_fix))\n",
    "\n",
    "x_fix_s = []\n",
    "y_fix_s = []\n",
    "x_sac_s = []\n",
    "y_sac_s = []\n",
    "\n",
    "for j in range(4117):\n",
    "    x_fix_s.append(x_fix[j])\n",
    "    y_fix_s.append(y_fix[j])\n",
    "    x_sac_s.append(x_sac[j])\n",
    "    y_sac_s.append(y_sac[j])\n",
    "    \n",
    "plt.scatter(x_fix_s,y_fix_s, s=20.0, c=\"red\",label=\"Fixations\")\n",
    "plt.plot(x_sac_s,y_sac_s, c=\"blue\",label=\"Saccades\")\n",
    "plt.legend()\n",
    "plt.ylabel(\"Y-Coordinates\")\n",
    "plt.ylim(-250, 1250)\n",
    "plt.xlim(-200, 2000)\n",
    "plt.xlabel(\"X-Coordinates\")\n",
    "plt.title(\"X-Axis & Y-Axis (Fix v. Sac)\")\n",
    "plt.savefig(\"X_y_fix_sac_iavt\")\n",
    "plt.show()\n",
    "\n",
    "plt.scatter(fix_velo,fix_displacement, s=5.5, c=\"red\",label=\"Fixations\")\n",
    "plt.scatter(sac_velo,sac_displacement, s=0.5, c=\"blue\",label=\"Saccades\")\n",
    "plt.legend()\n",
    "plt.xlabel(\"Velocity (Pixels/Second)\")\n",
    "plt.ylabel(\"Displacement (Pixels)\")\n",
    "plt.ylim(0, 600)\n",
    "plt.xlim(0, 10000)\n",
    "plt.title(\"Velocity v. Displacment (Fix v. Sac)\")\n",
    "plt.savefig(\"Fix_sac_velo_iavt\")\n",
    "plt.show()\n",
    "\n",
    "plt.scatter(x_fix,y_fix, s=0.5, c=\"red\",label=\"Fixations\")\n",
    "plt.scatter(x_sac,y_sac, s=0.5, c=\"blue\",label=\"Saccades\")\n",
    "plt.legend()\n",
    "plt.ylabel(\"Y-Coordinates\")\n",
    "plt.ylim(-250, 1250)\n",
    "plt.xlim(-200, 2000)\n",
    "plt.xlabel(\"X-Coordinates\")\n",
    "plt.title(\"X-Axis & Y-Axis (Fix v. Sac)\")\n",
    "#plt.savefig(\"Fixations_feat_velo\")\n",
    "plt.show()\n",
    "\n",
    "plt.hist(fix_velo,300,range=[0,30000], color =\"red\",label=\"Fixations\")\n",
    "plt.hist(sac_velo,300,range=[0,30000], color =\"blue\",label=\"Saccades\")\n",
    "plt.legend()\n",
    "plt.title(\"Velocity (Fix v. Sac)\")\n",
    "plt.xlabel(\"Velocity (Pixels/Second)\")\n",
    "plt.ylabel(\"Frequency\")\n",
    "plt.savefig(\"Fix_sac_vel_hist\")\n",
    "plt.show()\n",
    "\n",
    "plt.hist(fix_displacement,300,range=[0,300], color =\"red\",label=\"Fixations\")\n",
    "plt.hist(sac_displacement,300,range=[0,300], color =\"blue\",label=\"Saccades\")\n",
    "plt.legend()\n",
    "plt.title(\"Displacement (Fix v. Sac)\")\n",
    "plt.xlabel(\"Displacement (Pixels)\")\n",
    "plt.ylabel(\"Frequency\")\n",
    "plt.savefig(\"Fix_sac_disp_hist\")\n",
    "plt.show()\n",
    "\n",
    "plt.hist(fix_theta,100, color =\"red\",label=\"Fixations\")\n",
    "plt.hist(sac_theta,100, color =\"blue\",label=\"Saccades\")\n",
    "plt.legend()\n",
    "plt.title(\"Angle Change (Fix v. Sac)\")\n",
    "plt.xlabel(\"Angle Change (Radians)\")\n",
    "plt.ylabel(\"Frequency\")\n",
    "plt.savefig(\"Fix_sac_theta_hist\")\n",
    "plt.show()\n",
    "\n",
    "plt.hist(fix_velo_eff,100,range=[-25000,25000],color =\"red\",label=\"Fixations\")\n",
    "plt.hist(sac_velo_eff,100,range=[-25000,25000],color =\"blue\",label=\"Saccades\")\n",
    "plt.legend()\n",
    "plt.title(\"Velocity-Angle Change\")\n",
    "plt.xlabel(\"Velocity-Angle Change (Relative Pixels/Second)\")\n",
    "plt.ylabel(\"Frequency\")\n",
    "plt.savefig(\"Vel_angle_hist\")\n",
    "plt.show()\n",
    "\n",
    "textfile = open(\"iavt.txt\", \"w\")\n",
    "for element in classifier:\n",
    "    textfile.write(element + \"\\n\")\n",
    "textfile.close()"
   ]
  },
  {
   "cell_type": "code",
   "execution_count": null,
   "id": "international-lodge",
   "metadata": {
    "scrolled": false
   },
   "outputs": [],
   "source": [
    "#I-DT\n",
    "\n",
    "#Less relevant classifications up here\n",
    "\n",
    "#angle\n",
    "\n",
    "#debug\n",
    "t_stamps_debug = []\n",
    "\n",
    "#angle\n",
    "\n",
    "fix_temp_theta = []\n",
    "sac_temp_theta = []\n",
    "\n",
    "fix_theta = []\n",
    "sac_theta = []\n",
    "fix_theta.append(theta_np[i])\n",
    "sac_theta.append(theta_np[i])\n",
    "\n",
    "#Temporary fixation and saccade x/y points\n",
    "x_temp_fix = []\n",
    "y_temp_fix = []\n",
    "\n",
    "#Classified fixation and saccade x/y points\n",
    "x_fix = []\n",
    "y_fix = []\n",
    "\n",
    "x_sac = []\n",
    "y_sac = []\n",
    "\n",
    "#Temporary fixation timestamp\n",
    "fix_temp_timestamp = []\n",
    "\n",
    "#Classified fixation and saccade timestamps\n",
    "fix_timestamp = []\n",
    "sac_timestamp = []\n",
    "\n",
    "#Fixation and saccade classifier\n",
    "classifier = []\n",
    "\n",
    "#Temporary X/Y centroid points\n",
    "x_temp_centroid = []\n",
    "y_temp_centroid = []\n",
    "\n",
    "#Cumulated X/Y centroid values\n",
    "x_centroid_val = 0\n",
    "y_centroid_val = 0\n",
    "\n",
    "#pre_classification_count = 0\n",
    "\n",
    "#Calculated X/Y centroid points for classified fixations\n",
    "x_centroid = []\n",
    "y_centroid = []\n",
    "\n",
    "#duration for each classified fixation\n",
    "fixation_duration = []\n",
    "fixation_distance = []\n",
    "\n",
    "#comparisson\n",
    "saccade_duration = []\n",
    "saccade_distance = []\n",
    "\n",
    "ldist = 0\n",
    "\n",
    "x_comp = []\n",
    "y_comp = []\n",
    "\n",
    "s_point = 0 #Start point for new dispersion window\n",
    "\n",
    "for i in range (len(x_val_corr)):\n",
    "    \n",
    "    x_thres = 70\n",
    "    y_thres = 70\n",
    "    dur_thres = 0.125\n",
    "    \n",
    "    startX = x_val_corr[s_point] \n",
    "    startY = y_val_corr[s_point] \n",
    "    startTime = ang_time[s_point]\n",
    "    \n",
    "    endX = x_val_corr[i] \n",
    "    endY = y_val_corr[i] \n",
    "    endTime = ang_time[i]\n",
    "    \n",
    "    #absolute X/Y distances from start point\n",
    "    x_diff = abs(endX - startX)\n",
    "    y_diff = abs(endY - startY)\n",
    "    dur_diff = endTime - startTime\n",
    "    x_comp.append(abs(x_val_corr[i] - x_val_corr[i-1]))\n",
    "    y_comp.append(abs(y_val_corr[i] - y_val_corr[i-1]))\n",
    "        \n",
    "    \n",
    "    \n",
    "    if i == len(x_val_corr)-1: #Last point, classify all in temp series as saccades\n",
    "            \n",
    "        for m in range(len(x_temp_fix)):\n",
    "            x_sac.append(x_temp_fix[m])\n",
    "            y_sac.append(y_temp_fix[m])\n",
    "            sac_timestamp.append(fix_temp_timestamp[m])\n",
    "            classifier.append(\"saccade\")\n",
    "            sac_theta.append(fix_temp_theta[m])\n",
    "            #debug\n",
    "            #print(classifier[l])\n",
    "            #print(t_stamps[l])\n",
    "            t_stamps_debug.append(fix_temp_timestamp[m])\n",
    "    \n",
    "    \n",
    "    elif(x_diff < x_thres and y_diff < y_thres): #Does it meet proximity?\n",
    "            \n",
    "        if(dur_diff > dur_thres): #Does it meet duration? Classify as fixation\n",
    "            x_temp_fix.append(x_val_corr[i])\n",
    "            y_temp_fix.append(y_val_corr[i])\n",
    "            fix_temp_timestamp.append(ang_time[i])\n",
    "            x_temp_centroid.append(x_val_corr[i])\n",
    "            y_temp_centroid.append(y_val_corr[i])\n",
    "            fix_temp_theta.append(theta_np[i])\n",
    "            #classifier.append(\"fixation\")\n",
    "            fix_dur = dur_diff\n",
    "            ldist = ldist + np.sqrt(x_comp[i]**2 + y_comp[i]**2)\n",
    "\n",
    "                \n",
    "        else: #Put points \"on hold\" for either future fixation or saccade classification\n",
    "            #pre_classification_count = pre_classification_count + 1\n",
    "            x_temp_fix.append(x_val_corr[i])\n",
    "            y_temp_fix.append(y_val_corr[i])\n",
    "            fix_temp_timestamp.append(ang_time[i])\n",
    "            x_temp_centroid.append(x_val_corr[i])\n",
    "            y_temp_centroid.append(y_val_corr[i])\n",
    "            fix_temp_theta.append(theta_np[i])\n",
    "            fix_dur = dur_diff\n",
    "            ldist = ldist + np.sqrt(x_comp[i]**2 + y_comp[i]**2)\n",
    "            pass\n",
    "            \n",
    "    else: \n",
    "            \n",
    "        if(dur_diff > dur_thres): #Compute centriod for previous points, reset temp params\n",
    "                \n",
    "            for j in range(len(x_temp_fix)): #Put \"pending\" fixations into fixation classification\n",
    "                x_fix.append(x_temp_fix[j])\n",
    "                y_fix.append(y_temp_fix[j])\n",
    "                fix_timestamp.append(fix_temp_timestamp[j])\n",
    "                fix_theta.append(fix_temp_theta[j])\n",
    "                classifier.append(\"fixation\")\n",
    "                #debug\n",
    "                #print(classifier[j])\n",
    "                #print(t_stamps[j])\n",
    "                t_stamps_debug.append(fix_temp_timestamp[j])\n",
    "                \n",
    "                \n",
    "            for k in range(len(x_temp_centroid)): #Calculating centriod\n",
    "                x_centroid_val = x_centroid_val + x_temp_centroid[k]\n",
    "                y_centroid_val = y_centroid_val + y_temp_centroid[k]\n",
    "            \n",
    "            #add X/Y centroid values + duration for that fixation into respective arrays\n",
    "            x_centroid.append(x_centroid_val/len(x_temp_centroid))    \n",
    "            y_centroid.append(y_centroid_val/len(x_temp_centroid))\n",
    "            fixation_duration.append(fix_dur)\n",
    "            fixation_distance.append(ldist)\n",
    "            \n",
    "            x_sac.append(x_val_corr[i])\n",
    "            y_sac.append(y_val_corr[i])\n",
    "            sac_timestamp.append(ang_time[i])\n",
    "            classifier.append(\"saccade\")\n",
    "            \n",
    "            ldist = 0\n",
    "            x_temp_fix = []\n",
    "            y_temp_fix = []\n",
    "            x_temp_centroid = []\n",
    "            y_temp_centroid = [] \n",
    "            fix_temp_timestamp = []\n",
    "            fix_temp_theta = []\n",
    "            #pre_classification_count = 0\n",
    "            x_centroid_val = 0\n",
    "            y_centroid_val = 0\n",
    "            s_point = i+1\n",
    "        \n",
    "        elif i == len(x_val_corr): #Last point, classify all in temp series as saccades\n",
    "            \n",
    "            for m in range(len(x_temp_fix)):\n",
    "                x_sac.append(x_temp_fix[m])\n",
    "                y_sac.append(y_temp_fix[m])\n",
    "                sac_timestamp.append(fix_temp_timestamp[m])\n",
    "                classifier.append(\"saccade\")\n",
    "                sac_theta.append(fix_temp_theta[m])\n",
    "                #debug\n",
    "                #print(classifier[l])\n",
    "                #print(t_stamps[l])\n",
    "                t_stamps_debug.append(fix_temp_timestamp[m])\n",
    "            \n",
    "            saccade_duration.append(fix_dur)\n",
    "            x_sac.append(x_val_corr[i])\n",
    "            y_sac.append(y_val_corr[i])\n",
    "            sac_timestamp.append(ang_time[i])\n",
    "            classifier.append(\"saccade\")\n",
    "            saccade_distance.append(ldist)\n",
    "        \n",
    "        else: #Classify previous points as saccade\n",
    "                \n",
    "            for l in range(len(x_temp_fix)): #Put \"pending\" fixations into saccade classification\n",
    "                x_sac.append(x_temp_fix[l])\n",
    "                y_sac.append(y_temp_fix[l])\n",
    "                sac_timestamp.append(fix_temp_timestamp[l])\n",
    "                classifier.append(\"saccade\")\n",
    "                sac_theta.append(fix_temp_theta[l])\n",
    "                #debug\n",
    "                #print(classifier[l])\n",
    "                #print(t_stamps[l])\n",
    "                t_stamps_debug.append(fix_temp_timestamp[l])\n",
    "            \n",
    "            saccade_duration.append(fix_dur)\n",
    "            x_sac.append(x_val_corr[i])\n",
    "            y_sac.append(y_val_corr[i])\n",
    "            sac_timestamp.append(ang_time[i])\n",
    "            classifier.append(\"saccade\")\n",
    "            saccade_distance.append(ldist)\n",
    "            \n",
    "            ldist = 0\n",
    "            x_temp_fix = []\n",
    "            y_temp_fix = []\n",
    "            x_temp_centroid = []\n",
    "            y_temp_centroid = []\n",
    "            fix_temp_timestamp = []\n",
    "            fix_temp_theta = []\n",
    "            #pre_classification_count = 0\n",
    "            x_centroid_val = 0\n",
    "            y_centroid_val = 0\n",
    "            s_point = i+1\n",
    "        \n",
    "        #debug\n",
    "        #print(classifier[i])\n",
    "        #print(t_stamps[i])\n",
    "        t_stamps_debug.append(ang_time[i])\n",
    "    \n",
    "\n",
    "    \n",
    "#Define start/end durations\n",
    "#Define X & Y Proximity\n",
    "\n",
    "#When out of range, classify exisitng points as fixations if dispersion & duration threshold are met\n",
    "    #if not, the next point (from the original centroid) is the new starting point, previous point classified as a saccade\n",
    "    \n",
    "#Compute centroids\n",
    "\n",
    "#print(len())\n",
    "#print(len(x_val_corr))\n",
    "#print(len(classifier))\n",
    "#print(len(x_fix))\n",
    "#print(len(x_sac))\n",
    "#print(len(x_centroid))\n",
    "#print(len(t_stamps_debug))\n",
    "\n",
    "x_fix_s = []\n",
    "y_fix_s = []\n",
    "x_sac_s = []\n",
    "y_sac_s = []\n",
    "\n",
    "for j in range(4117):\n",
    "    x_fix_s.append(x_fix[j])\n",
    "    y_fix_s.append(y_fix[j])\n",
    "    x_sac_s.append(x_sac[j])\n",
    "    y_sac_s.append(y_sac[j])\n",
    "    \n",
    "x_centroid_s = []\n",
    "y_centroid_s = []\n",
    "    \n",
    "for k in range(94):\n",
    "    x_centroid_s.append(x_centroid[k])\n",
    "    y_centroid_s.append(y_centroid[k])\n",
    "    \n",
    "plt.scatter(x_fix_s,y_fix_s, s=20.0, c=\"red\",label=\"Fixations\")\n",
    "plt.plot(x_sac_s,y_sac_s, c=\"blue\",label=\"Saccades\")\n",
    "plt.legend()\n",
    "plt.ylabel(\"Y-Coordinates\")\n",
    "plt.ylim(-250, 1250)\n",
    "plt.xlim(-200, 2000)\n",
    "plt.xlabel(\"X-Coordinates\")\n",
    "plt.title(\"X-Axis & Y-Axis (Fix v. Sac)\")\n",
    "plt.savefig(\"X_y_fix_sac_idt\")\n",
    "plt.show()\n",
    "\n",
    "plt.scatter(x_fix,y_fix, s=0.5, c=\"red\",label=\"Fixations\")\n",
    "plt.scatter(x_sac,y_sac, s=0.5, c=\"blue\",label=\"Saccades\")\n",
    "plt.legend()\n",
    "plt.ylabel(\"Y-Coordinates\")\n",
    "plt.ylim(-250, 1250)\n",
    "plt.xlim(-200, 2000)\n",
    "plt.xlabel(\"X-Coordinates\")\n",
    "plt.title(\"X-Axis & Y-Axis (Fix v. Sac)\")\n",
    "plt.savefig(\"X_y_fix_sac_comp\")\n",
    "plt.show()\n",
    "\n",
    "plt.scatter(x_centroid_s,y_centroid_s, s=2.0, c=\"red\",label=\"Centroid\")\n",
    "plt.legend()\n",
    "plt.ylabel(\"Y-Coordinates\")\n",
    "plt.ylim(-250, 1250)\n",
    "plt.xlim(-200, 2000)\n",
    "plt.xlabel(\"X-Coordinates\")\n",
    "plt.title(\"Fixation Centroids\")\n",
    "plt.savefig(\"Fix_centroids\")\n",
    "plt.show()\n",
    "\n",
    "plt.hist(fixation_duration,200,range=[0,1], color =\"red\",label=\"Fixations\")\n",
    "plt.hist(saccade_duration,200,range=[0,1], color =\"blue\",label=\"Saccades\")\n",
    "plt.legend()\n",
    "plt.title(\"Duration (Fix v. Sac)\")\n",
    "plt.xlabel(\"Duration (Seconds)\")\n",
    "plt.ylabel(\"Frequency\")\n",
    "plt.savefig(\"Fix_sac_dur_hist\")\n",
    "plt.show()\n",
    "\n",
    "plt.hist(fixation_distance,200,range=[0,2600], color =\"red\",label=\"Fixations\")\n",
    "plt.hist(saccade_distance,200,range=[0,2600], color =\"blue\",label=\"Saccades\")\n",
    "plt.legend()\n",
    "plt.title(\"Distance (Fix v. Sac)\")\n",
    "plt.xlabel(\"Distance (Pixels)\")\n",
    "plt.ylabel(\"Frequency\")\n",
    "plt.savefig(\"Fix_sac_dist_hist\")\n",
    "plt.show()\n",
    "\n",
    "plt.hist(saccade_distance,200,range=[0,2600], color =\"blue\",label=\"Saccades\")\n",
    "plt.hist(fixation_distance,200,range=[0,2600], color =\"red\",label=\"Fixations\")\n",
    "plt.legend()\n",
    "plt.title(\"Distance (Fix v. Sac)\")\n",
    "plt.xlabel(\"Distance (Pixels)\")\n",
    "plt.ylabel(\"Frequency\")\n",
    "plt.savefig(\"Sac_fix_dist_hist\")\n",
    "plt.show()\n",
    "\n",
    "plt.hist(fix_theta,100, color =\"red\",label=\"Fixations\")\n",
    "plt.hist(sac_theta,100, color =\"blue\",label=\"Saccades\")\n",
    "plt.legend()\n",
    "plt.title(\"Angle Change (I-DT) (Fix v. Sac)\")\n",
    "plt.xlabel(\"Angle Change (Radians)\")\n",
    "plt.ylabel(\"Frequency\")\n",
    "plt.savefig(\"Fix_sac_idt_theta_hist\")\n",
    "plt.show()\n",
    "\n",
    "plt.scatter(fixation_duration,fixation_distance, s=1.0, c=\"red\",label=\"Fixations\")\n",
    "plt.scatter(saccade_duration,saccade_distance, s=1.0, c=\"blue\",label=\"Saccades\")\n",
    "plt.legend()\n",
    "plt.xlabel(\"Duration (Seconds)\")\n",
    "plt.ylabel(\"Distance (Pixels)\")\n",
    "plt.ylim(0, 2600)\n",
    "plt.xlim(0, 1)\n",
    "plt.title(\"Duration v. Distance (Fix v. Sac)\")\n",
    "plt.savefig(\"Fix_sac_dur_dist_idt\")\n",
    "plt.show()\n",
    "\n",
    "np.savetxt('timestamps_debug.txt', np.array(t_stamps_debug), fmt='%.2f')\n",
    "#np.savetxt('eyetracker.txt', np.array(x_val_corr), fmt='%.2f')\n",
    "\n",
    "textfile = open(\"idt.txt\", \"w\")\n",
    "for element in classifier:\n",
    "    textfile.write(element + \"\\n\")\n",
    "textfile.close()"
   ]
  },
  {
   "cell_type": "code",
   "execution_count": 115,
   "id": "110cbf09",
   "metadata": {},
   "outputs": [
    {
     "name": "stderr",
     "output_type": "stream",
     "text": [
      "<ipython-input-115-486354237598>:1: RuntimeWarning: invalid value encountered in log\n",
      "  trash = plt.hist(np.log(np.array(point_velo)[np.array(point_velo) != 0]),100)\n"
     ]
    },
    {
     "data": {
      "image/png": "[encoded data removed]",
      "text/plain": [
       "<Figure size 432x288 with 1 Axes>"
      ]
     },
     "metadata": {
      "needs_background": "light"
     },
     "output_type": "display_data"
    }
   ],
   "source": [
    "trash = plt.hist(np.log(np.array(point_velo)[np.array(point_velo) != 0]),100)\n"
   ]
  },
  {
   "cell_type": "code",
   "execution_count": 123,
   "id": "69e86c7b",
   "metadata": {},
   "outputs": [
    {
     "name": "stderr",
     "output_type": "stream",
     "text": [
      "<ipython-input-123-b74649be379c>:1: RuntimeWarning: invalid value encountered in log\n",
      "  trash = plt.hist(np.log(np.array(fix_velo)[np.array(fix_velo) != 0]),100)\n"
     ]
    },
    {
     "data": {
      "image/png": "[encoded data removed]",
      "text/plain": [
       "<Figure size 432x288 with 1 Axes>"
      ]
     },
     "metadata": {
      "needs_background": "light"
     },
     "output_type": "display_data"
    }
   ],
   "source": [
    "trash = plt.hist(np.log(np.array(fix_velo)[np.array(fix_velo) != 0]),100)"
   ]
  },
  {
   "cell_type": "code",
   "execution_count": 23,
   "id": "f03892a4",
   "metadata": {},
   "outputs": [
    {
     "data": {
      "text/plain": [
       "8.37275833435313"
      ]
     },
     "execution_count": 23,
     "metadata": {},
     "output_type": "execute_result"
    }
   ],
   "source": [
    "np.mean(np.log(np.array(sac_velo)[np.array(sac_velo) > 0.1]))"
   ]
  },
  {
   "cell_type": "code",
   "execution_count": null,
   "id": "83414918",
   "metadata": {},
   "outputs": [],
   "source": [
    "#fixations are log-normal distribution with u = 7.14 and sigma = 0.88"
   ]
  },
  {
   "cell_type": "code",
   "execution_count": 24,
   "id": "3a5e8d07",
   "metadata": {},
   "outputs": [
    {
     "data": {
      "text/plain": [
       "1.01746267016367"
      ]
     },
     "execution_count": 24,
     "metadata": {},
     "output_type": "execute_result"
    }
   ],
   "source": [
    "np.std(np.log(np.array(sac_velo)[np.array(sac_velo) > 0.1]))"
   ]
  },
  {
   "cell_type": "code",
   "execution_count": 153,
   "id": "811dfe62",
   "metadata": {},
   "outputs": [
    {
     "name": "stderr",
     "output_type": "stream",
     "text": [
      "<ipython-input-153-26911ebf10b8>:1: RuntimeWarning: invalid value encountered in log\n",
      "  trash = plt.hist(np.log(np.array(sac_velo)[np.array(sac_velo) != 0]),100)\n"
     ]
    },
    {
     "data": {
      "image/png": "[encoded data removed]",
      "text/plain": [
       "<Figure size 432x288 with 1 Axes>"
      ]
     },
     "metadata": {
      "needs_background": "light"
     },
     "output_type": "display_data"
    }
   ],
   "source": [
    "trash = plt.hist(np.log(np.array(sac_velo)[np.array(sac_velo) != 0]),100) "
   ]
  },
  {
   "cell_type": "code",
   "execution_count": 37,
   "id": "foster-appeal",
   "metadata": {},
   "outputs": [
    {
     "name": "stdout",
     "output_type": "stream",
     "text": [
      "0.6206956651644548\n",
      "0.23342379802305604\n",
      "0.15006349127306226\n"
     ]
    }
   ],
   "source": [
    "transition = 0\n",
    "fixat = 0\n",
    "sacca = 0\n",
    "\n",
    "for i in range(len(classifier)-1):\n",
    "    if classifier[i] != classifier[i+1]:\n",
    "        transition = transition + 1\n",
    "        \n",
    "for j in range(len(classifier)-1):\n",
    "    if classifier[j] == \"fixation\":\n",
    "        fixat = fixat + 1\n",
    "    elif classifier[j] == \"saccade\":\n",
    "        sacca = sacca + 1\n",
    "\n",
    "print(fixat/len(classifier))        \n",
    "print(sacca/len(classifier))      \n",
    "print(transition/len(classifier))\n"
   ]
  },
  {
   "cell_type": "code",
   "execution_count": null,
   "id": "f862d8eb",
   "metadata": {},
   "outputs": [],
   "source": [
    "#assume saccades are also log-normal"
   ]
  },
  {
   "cell_type": "code",
   "execution_count": 38,
   "id": "ea4cf5ef",
   "metadata": {},
   "outputs": [],
   "source": [
    "from pomegranate import *\n",
    "s1 = State(LogNormalDistribution(7.12, 1.07)) #fixations\n",
    "s2 = State(NormalDistribution(8.37, 1.02)) #saccades\n",
    "model = HiddenMarkovModel()\n",
    "model.add_states(s1, s2)\n",
    "model.add_transition(model.start, s1, 1.0)\n",
    "model.add_transition(s1, s1, 0.621)\n",
    "model.add_transition(s1, s2, 0.075)\n",
    "model.add_transition(s2, s1, 0.075)\n",
    "model.add_transition(s2, s2, 0.233)\n",
    "model.add_transition(s2, model.end, 0.1)\n",
    "model.bake()"
   ]
  },
  {
   "cell_type": "code",
   "execution_count": 39,
   "id": "cd0cc401",
   "metadata": {},
   "outputs": [],
   "source": [
    "sequence = model.sample()"
   ]
  },
  {
   "cell_type": "code",
   "execution_count": 40,
   "id": "24def2ab",
   "metadata": {},
   "outputs": [],
   "source": [
    "#sequence2 = model.sample()"
   ]
  },
  {
   "cell_type": "code",
   "execution_count": 41,
   "id": "15dcc078",
   "metadata": {},
   "outputs": [
    {
     "data": {
      "text/plain": [
       "array([1507.53684928,  365.94466116, 3723.64801876, 1245.31571911,\n",
       "        431.3699149 ,  896.82225369,  602.45489814,  812.10604698,\n",
       "          8.07844498])"
      ]
     },
     "execution_count": 41,
     "metadata": {},
     "output_type": "execute_result"
    }
   ],
   "source": [
    "sequence"
   ]
  },
  {
   "cell_type": "code",
   "execution_count": 42,
   "id": "e521e8cf",
   "metadata": {},
   "outputs": [
    {
     "data": {
      "text/plain": [
       "{\n",
       "    \"class\" : \"HiddenMarkovModel\",\n",
       "    \"name\" : \"None\",\n",
       "    \"start\" : {\n",
       "        \"class\" : \"State\",\n",
       "        \"distribution\" : null,\n",
       "        \"name\" : \"None-start\",\n",
       "        \"weight\" : 1.0\n",
       "    },\n",
       "    \"end\" : {\n",
       "        \"class\" : \"State\",\n",
       "        \"distribution\" : null,\n",
       "        \"name\" : \"None-end\",\n",
       "        \"weight\" : 1.0\n",
       "    },\n",
       "    \"states\" : [\n",
       "        {\n",
       "            \"class\" : \"State\",\n",
       "            \"distribution\" : {\n",
       "                \"class\" : \"Distribution\",\n",
       "                \"name\" : \"NormalDistribution\",\n",
       "                \"parameters\" : [\n",
       "                    8.078444982906108,\n",
       "                    0.0\n",
       "                ],\n",
       "                \"frozen\" : false\n",
       "            },\n",
       "            \"name\" : \"1842d467-39c3-472f-a948-6e8faa51c632\",\n",
       "            \"weight\" : 1.0\n",
       "        },\n",
       "        {\n",
       "            \"class\" : \"State\",\n",
       "            \"distribution\" : {\n",
       "                \"class\" : \"Distribution\",\n",
       "                \"name\" : \"LogNormalDistribution\",\n",
       "                \"parameters\" : [\n",
       "                    6.8170981742338395,\n",
       "                    0.6989977305528527\n",
       "                ],\n",
       "                \"frozen\" : false\n",
       "            },\n",
       "            \"name\" : \"88f1340c-722b-4c70-9456-db7556527e1c\",\n",
       "            \"weight\" : 1.0\n",
       "        },\n",
       "        {\n",
       "            \"class\" : \"State\",\n",
       "            \"distribution\" : null,\n",
       "            \"name\" : \"None-start\",\n",
       "            \"weight\" : 1.0\n",
       "        },\n",
       "        {\n",
       "            \"class\" : \"State\",\n",
       "            \"distribution\" : null,\n",
       "            \"name\" : \"None-end\",\n",
       "            \"weight\" : 1.0\n",
       "        }\n",
       "    ],\n",
       "    \"end_index\" : 3,\n",
       "    \"start_index\" : 2,\n",
       "    \"silent_index\" : 2,\n",
       "    \"edges\" : [\n",
       "        [\n",
       "            2,\n",
       "            1,\n",
       "            1.0,\n",
       "            1.0,\n",
       "            null\n",
       "        ],\n",
       "        [\n",
       "            1,\n",
       "            1,\n",
       "            0.8749999999999979,\n",
       "            0.621,\n",
       "            null\n",
       "        ],\n",
       "        [\n",
       "            1,\n",
       "            0,\n",
       "            0.12500000000000214,\n",
       "            0.075,\n",
       "            null\n",
       "        ],\n",
       "        [\n",
       "            0,\n",
       "            1,\n",
       "            0.0,\n",
       "            0.075,\n",
       "            null\n",
       "        ],\n",
       "        [\n",
       "            0,\n",
       "            0,\n",
       "            0.0,\n",
       "            0.233,\n",
       "            null\n",
       "        ],\n",
       "        [\n",
       "            0,\n",
       "            3,\n",
       "            1.0,\n",
       "            0.1,\n",
       "            null\n",
       "        ]\n",
       "    ],\n",
       "    \"distribution ties\" : []\n",
       "}"
      ]
     },
     "execution_count": 42,
     "metadata": {},
     "output_type": "execute_result"
    }
   ],
   "source": [
    "model.fit([sequence])"
   ]
  },
  {
   "cell_type": "code",
   "execution_count": 43,
   "id": "b4506d37",
   "metadata": {},
   "outputs": [
    {
     "data": {
      "text/plain": [
       "1"
      ]
     },
     "execution_count": 43,
     "metadata": {},
     "output_type": "execute_result"
    }
   ],
   "source": [
    "model.viterbi(sequence)[1][5][0]"
   ]
  },
  {
   "cell_type": "code",
   "execution_count": 44,
   "id": "21712d11",
   "metadata": {},
   "outputs": [
    {
     "data": {
      "text/plain": [
       "{\n",
       "    \"class\" : \"Distribution\",\n",
       "    \"name\" : \"NormalDistribution\",\n",
       "    \"parameters\" : [\n",
       "        3.9047619047619047,\n",
       "        2.13596776114341\n",
       "    ],\n",
       "    \"frozen\" : false\n",
       "}"
      ]
     },
     "execution_count": 44,
     "metadata": {},
     "output_type": "execute_result"
    }
   ],
   "source": [
    "d = NormalDistribution(5, 2)\n",
    "d.fit([1, 5, 7, 3, 2, 4, 3, 5, 7, 8, 2, 4, 6, 7, 2, 4, 5, 1, 3, 2, 1])\n",
    "d"
   ]
  },
  {
   "cell_type": "code",
   "execution_count": 60,
   "id": "948594a1",
   "metadata": {},
   "outputs": [],
   "source": [
    "s1 = State(NormalDistribution(5, 1))\n",
    "s2 = State(NormalDistribution(1, 7))\n",
    "s3 = State(NormalDistribution(8, 2))\n",
    "model2 = HiddenMarkovModel()\n",
    "model2.add_states(s1, s2, s3)\n",
    "model2.add_transition(model.start, s1, 1.0)\n",
    "model2.add_transition(s1, s1, 0.7)\n",
    "model2.add_transition(s1, s2, 0.3)\n",
    "model2.add_transition(s2, s2, 0.8)\n",
    "model2.add_transition(s2, s3, 0.2)\n",
    "model2.add_transition(s3, s3, 0.9)\n",
    "model2.add_transition(s3, model.end, 0.1)\n",
    "model2.bake()"
   ]
  },
  {
   "cell_type": "code",
   "execution_count": 46,
   "id": "suspended-indiana",
   "metadata": {
    "scrolled": false
   },
   "outputs": [
    {
     "ename": "UnboundLocalError",
     "evalue": "local variable 'dist' referenced before assignment",
     "output_type": "error",
     "traceback": [
      "\u001b[1;31m---------------------------------------------------------------------------\u001b[0m",
      "\u001b[1;31mUnboundLocalError\u001b[0m                         Traceback (most recent call last)",
      "\u001b[1;32m<ipython-input-46-08c74cabc269>\u001b[0m in \u001b[0;36m<module>\u001b[1;34m\u001b[0m\n\u001b[0;32m     39\u001b[0m \u001b[0mmodel\u001b[0m\u001b[1;33m.\u001b[0m\u001b[0madd_transition\u001b[0m\u001b[1;33m(\u001b[0m\u001b[0mmodel\u001b[0m\u001b[1;33m.\u001b[0m\u001b[0mstart\u001b[0m\u001b[1;33m,\u001b[0m \u001b[0msaccade\u001b[0m\u001b[1;33m,\u001b[0m \u001b[1;36m0.5\u001b[0m\u001b[1;33m)\u001b[0m\u001b[1;33m\u001b[0m\u001b[1;33m\u001b[0m\u001b[0m\n\u001b[0;32m     40\u001b[0m \u001b[0mmodel\u001b[0m\u001b[1;33m.\u001b[0m\u001b[0madd_transition\u001b[0m\u001b[1;33m(\u001b[0m\u001b[0mmodel\u001b[0m\u001b[1;33m.\u001b[0m\u001b[0mstart\u001b[0m\u001b[1;33m,\u001b[0m \u001b[0mfixation\u001b[0m\u001b[1;33m,\u001b[0m \u001b[1;36m0.5\u001b[0m\u001b[1;33m)\u001b[0m\u001b[1;33m\u001b[0m\u001b[1;33m\u001b[0m\u001b[0m\n\u001b[1;32m---> 41\u001b[1;33m \u001b[0mmodel\u001b[0m\u001b[1;33m.\u001b[0m\u001b[0mbake\u001b[0m\u001b[1;33m(\u001b[0m\u001b[1;33m)\u001b[0m\u001b[1;33m\u001b[0m\u001b[1;33m\u001b[0m\u001b[0m\n\u001b[0m\u001b[0;32m     42\u001b[0m \u001b[0msequence\u001b[0m \u001b[1;33m=\u001b[0m \u001b[0mmodel\u001b[0m\u001b[1;33m.\u001b[0m\u001b[0msample\u001b[0m\u001b[1;33m(\u001b[0m\u001b[1;33m)\u001b[0m\u001b[1;33m\u001b[0m\u001b[1;33m\u001b[0m\u001b[0m\n",
      "\u001b[1;32m~\\AppData\\Roaming\\Python\\Python38\\site-packages\\pomegranate\\hmm.pyx\u001b[0m in \u001b[0;36mpomegranate.hmm.HiddenMarkovModel.bake\u001b[1;34m()\u001b[0m\n",
      "\u001b[1;31mUnboundLocalError\u001b[0m: local variable 'dist' referenced before assignment"
     ]
    }
   ],
   "source": [
    "#I-HMM (https://stackoverflow.com/questions/44812681/hidden-markov-model-gets-stuck-python-hiiden-markov-model-for-eye-movement-det)\n",
    "\n",
    "\n",
    "def Average(lst):\n",
    "    return sum(lst) / len(lst)\n",
    "\n",
    "meanVelocity = Average(point_velo_corr)\n",
    "\n",
    "fixations_ = []\n",
    "fixations_time = []\n",
    "\n",
    "saccades_ = []\n",
    "saccades_time = []\n",
    "\n",
    "for i in range(len(point_velo_corr)):\n",
    "    \n",
    "    if point_velo_corr[i] < meanVelocity: #fixation\n",
    "        fixations_.append(point_velo_corr[i])\n",
    "        fixations_time.append(duration_diff_corr[i])\n",
    "    else: #saccade\n",
    "        saccades_.append(point_velo_corr[i])\n",
    "        saccades_time.append(duration_diff_corr[i])\n",
    "\n",
    "\n",
    "\n",
    "#Initialize model\n",
    "\n",
    "\n",
    "\n",
    "#model = Model(name=\"Saccade-Fixation\")\n",
    "saccade = po.State(po.DiscreteDistribution(dict(zip(saccades_time, saccades_))), name=\"saccades\")\n",
    "fixation = po.State(po.DiscreteDistribution(dict(zip(fixations_time, fixations_))), name=\"fixations\")\n",
    "\n",
    "#Add states to the model.\n",
    "model = po.HiddenMarkovModel()\n",
    "model.add_states(fixation, saccade)\n",
    "\n",
    "#Add the two transitions from the start of of the model to the hidden states.\n",
    "model.add_transition(model.start, saccade, 0.5)\n",
    "model.add_transition(model.start, fixation, 0.5)\n",
    "model.bake()\n",
    "sequence = model.sample()"
   ]
  },
  {
   "cell_type": "code",
   "execution_count": null,
   "id": "6de74836",
   "metadata": {},
   "outputs": [],
   "source": [
    "from pomegranate import *"
   ]
  },
  {
   "cell_type": "code",
   "execution_count": null,
   "id": "eleven-poster",
   "metadata": {},
   "outputs": [],
   "source": [
    "#I-HMM (Pomogranite Tutorial)\n",
    "\n",
    "\n",
    "d = NormalDistribution(point_velo_corr)\n",
    "\n",
    "s1 = State(d, name='fixation')\n",
    "s2 = State(d, name='saccade')\n",
    "\n",
    "s3 = State( NormalDistribution(point_velo_corr), name=\"untied_fixation\" )\n",
    "s4 = State( NormalDistribution(point_velo_corr), name=\"untied_saccade\" )\n",
    "\n",
    "model = HiddenMarkovModel()\n",
    "model.add_states( [s1, s2] )\n",
    "model.add_transition( model.start, s1, 0.5, group='a' )\n",
    "model.add_transition( model.start, s2, 0.5, group='b' )\n",
    "model.add_transition( s1, s2, 0.5, group='a' )\n",
    "model.add_transition( s2, s1, 0.5, group='b' )\n",
    "model.bake()\n",
    "\n",
    "sequence = model.sample()"
   ]
  },
  {
   "cell_type": "code",
   "execution_count": null,
   "id": "educational-hebrew",
   "metadata": {},
   "outputs": [],
   "source": [
    "#Hamming Distance\n",
    "\n",
    "results = pd.read_csv(\"text_results/results.csv\")\n",
    "\n",
    "original2 = results.iloc[:, 3:4].values\n",
    "i_vt2 = results.iloc[:, 4:5].values\n",
    "i_avt2 = results.iloc[:, 5:6].values\n",
    "i_dt2 = results.iloc[:, 6:7].values\n",
    "\n",
    "original = np.array(original2).sum(axis=1)\n",
    "i_vt = np.array(i_vt2).sum(axis=1)\n",
    "i_avt = np.array(i_avt2).sum(axis=1)\n",
    "i_dt = np.array(i_dt2).sum(axis=1)\n",
    "\n",
    "algos = [i_vt,i_avt,i_dt]\n",
    "names = [\"I-VT\",\"I-AVT\",\"I-DT\"]\n",
    "\n",
    "hamming_distance = 0\n",
    "\n",
    "for i in range(len(algos)):\n",
    "    algo = algos[i]\n",
    "    for j in range(len(original)):\n",
    "        if algo[j] ==  original[j]:\n",
    "            hamming_distance = hamming_distance + 1\n",
    "        else:\n",
    "            pass\n",
    "    print(\"Hamming distance: \" + str(hamming_distance))\n",
    "    h_d = round((((len(original) - hamming_distance)/len(original))*100),2)\n",
    "    print(\"Accuracy for \" + str(names[i]) + \": \" + str(h_d) + \"%\")\n",
    "    print(\"\\n\")\n",
    "    hamming_distance = 0\n",
    "\n"
   ]
  },
  {
   "cell_type": "code",
   "execution_count": null,
   "id": "muslim-briefs",
   "metadata": {},
   "outputs": [],
   "source": [
    "#Fixation and Saccade Grouping (WIP)       \n",
    "\n",
    "#Classification\n",
    "\n",
    "fixations = []\n",
    "saccades = []\n",
    "\n",
    "feature_classification = [] # append(\"F\") append(\"S\")\n",
    "\n",
    "\n",
    "#Coordinates\n",
    "\n",
    "x_fixations = []\n",
    "x_saccades = []\n",
    "\n",
    "y_fixations = []\n",
    "y_saccades = []\n",
    "\n",
    "feature_x = []\n",
    "feature_y = []\n",
    "\n",
    "\n",
    "#Timestamps\n",
    "\n",
    "fixation_timestamp = []\n",
    "saccade_timestamp = []\n",
    "\n",
    "feature_timestamp = []\n",
    "\n",
    "\n",
    "#Grouping\n",
    "\n",
    "fix_count = 0\n",
    "sac_count = 0\n",
    "\n",
    "for i in range(len(classifier)):\n",
    "    if classifier[i] == \"fixation\":\n",
    "        \n",
    "        if sac_count > 0:\n",
    "            sac_count = 0 #Reset and apply\n",
    "            feature_classification.append(saccades)\n",
    "            feature_x.append(x_saccades)\n",
    "            feature_y.append(y_saccades)\n",
    "            feature_timestamp.append(saccade_timestamp)\n",
    "            \n",
    "            saccades = [] #Empty arrays\n",
    "            x_saccades = []\n",
    "            y_saccades = []\n",
    "            saccade_timestamp = []\n",
    "        \n",
    "        fix_count = fix_count + 1\n",
    "        fixations.append(\"F\")\n",
    "        x_fixations.append(x_val_corr[i+1])\n",
    "        y_fixations.append(y_val_corr[i+1])\n",
    "        #fixation_timestamp.append(ang_time[i])\n",
    "        \n",
    "    elif classifier[i] == \"saccade\":\n",
    "        \n",
    "        if fix_count > 0:\n",
    "            fix_count = 0 #Reset and apply\n",
    "            feature_classification.append(fixations)\n",
    "            feature_x.append(x_fixations)\n",
    "            feature_y.append(y_fixations)\n",
    "            feature_timestamp.append(fixation_timestamp)\n",
    "            \n",
    "            fixations = [] #Empty arrays\n",
    "            x_fixations = []\n",
    "            y_fixations = []\n",
    "            fixation_timestamp = []\n",
    "        \n",
    "        sac_count = sac_count + 1\n",
    "        saccades.append(\"S\")\n",
    "        x_saccades.append(x_val_corr[i+1])\n",
    "        y_saccades.append(y_val_corr[i+1])\n",
    "        #saccade_timestamp.append(ang_time[i])\n",
    "    \n",
    "    elif i == len(classifier)-1: #When it reaches the end\n",
    "        \n",
    "        if sac_count > 0:\n",
    "            sac_count = 0\n",
    "            feature_classification.append(saccades)\n",
    "            feature_x.append(x_saccades)\n",
    "            feature_y.append(y_saccades)\n",
    "            feature_timestamp.append(saccade_timestamp)\n",
    "            \n",
    "        elif fix_count > 0:\n",
    "            fix_count = 0\n",
    "            feature_classification.append(fixations)\n",
    "            feature_x.append(x_fixations)\n",
    "            feature_y.append(y_fixations)\n",
    "            feature_timestamp.append(fixation_timestamp)\n",
    "            \n",
    "        else:\n",
    "            pass\n",
    "    \n",
    "    else:\n",
    "        feature_classification.append(\"O\")"
   ]
  },
  {
   "cell_type": "code",
   "execution_count": null,
   "id": "detected-swaziland",
   "metadata": {},
   "outputs": [],
   "source": [
    "print(len(feature_classification))\n",
    "\n",
    "textfile = open(\"eye_tracker_grouping.txt\", \"w\")\n",
    "for element in feature_classification:\n",
    "    textfile.write(str(element) + \"\\n\")\n",
    "textfile.close()"
   ]
  },
  {
   "cell_type": "code",
   "execution_count": null,
   "id": "maritime-sunglasses",
   "metadata": {
    "scrolled": true
   },
   "outputs": [],
   "source": [
    "print(feature_classification)"
   ]
  },
  {
   "cell_type": "code",
   "execution_count": null,
   "id": "existing-cherry",
   "metadata": {},
   "outputs": [],
   "source": [
    "results = pd.read_csv(\"text_results/results.csv\")"
   ]
  },
  {
   "cell_type": "code",
   "execution_count": null,
   "id": "other-impact",
   "metadata": {},
   "outputs": [],
   "source": [
    "results.head()"
   ]
  },
  {
   "cell_type": "code",
   "execution_count": null,
   "id": "resistant-deployment",
   "metadata": {},
   "outputs": [],
   "source": [
    "results_top = results.head(10)\n",
    "results_bottom = results.tail(10)\n",
    "#print(results_top)\n",
    "#print(results_bottom)\n",
    "\n",
    "results_crop = pd.concat([results.head(10), results.tail(10)])\n",
    "\n",
    "results_final = results.loc[6:25]"
   ]
  },
  {
   "cell_type": "code",
   "execution_count": null,
   "id": "further-positive",
   "metadata": {
    "scrolled": false
   },
   "outputs": [],
   "source": [
    "ax = plt.subplot(111, frame_on=False) # no visible frame\n",
    "ax.xaxis.set_visible(False)  # hide the x axis\n",
    "ax.yaxis.set_visible(False)  # hide the y axis\n",
    "\n",
    "table(ax, results_final.loc[6:25])  # where df is your data frame\n",
    "\n",
    "plt.savefig('results_table_alt.png')"
   ]
  },
  {
   "cell_type": "code",
   "execution_count": null,
   "id": "yellow-pantyhose",
   "metadata": {},
   "outputs": [],
   "source": [
    "dfi.export(results_final,\"results_table.png\")"
   ]
  },
  {
   "cell_type": "code",
   "execution_count": null,
   "id": "widespread-annual",
   "metadata": {},
   "outputs": [],
   "source": []
  }
 ],
 "metadata": {
  "kernelspec": {
   "display_name": "Python 3",
   "language": "python",
   "name": "python3"
  },
  "language_info": {
   "codemirror_mode": {
    "name": "ipython",
    "version": 3
   },
   "file_extension": ".py",
   "mimetype": "text/x-python",
   "name": "python",
   "nbconvert_exporter": "python",
   "pygments_lexer": "ipython3",
   "version": "3.9.1"
  }
 },
 "nbformat": 4,
 "nbformat_minor": 5
}
